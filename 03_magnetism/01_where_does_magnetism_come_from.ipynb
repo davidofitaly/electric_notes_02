{
  "nbformat": 4,
  "nbformat_minor": 0,
  "metadata": {
    "colab": {
      "provenance": [],
      "authorship_tag": "ABX9TyP7Pj6iXL1+0PzEpU9XnWBu",
      "include_colab_link": true
    },
    "kernelspec": {
      "name": "python3",
      "display_name": "Python 3"
    },
    "language_info": {
      "name": "python"
    }
  },
  "cells": [
    {
      "cell_type": "markdown",
      "metadata": {
        "id": "view-in-github",
        "colab_type": "text"
      },
      "source": [
        "<a href=\"https://colab.research.google.com/github/davidofitaly/electric_notes_02/blob/main/03_magnetism/01_where_does_magnetism_come_from.ipynb\" target=\"_parent\"><img src=\"https://colab.research.google.com/assets/colab-badge.svg\" alt=\"Open In Colab\"/></a>"
      ]
    },
    {
      "cell_type": "markdown",
      "source": [
        "\n",
        "\n",
        "## Skąd się wziął magnetyzm?\n",
        "\n",
        "### 1. Wprowadzenie\n",
        "Magnetyzm, choć znany od tysięcy lat, długo pozostawał tajemnicą. Dopiero rozwój mechaniki kwantowej w XX wieku pozwolił na zrozumienie jego źródła.\n",
        "\n",
        "### 2. Magnetyzm a elektron\n",
        "Elektron posiada wewnętrzną właściwość zwaną **spin**, która sprawia, że jest on małym magnesem. Spin może przyjmować dwie wartości: dodatnią lub ujemną, co oznacza się odpowiednimi strzałkami.\n",
        "\n",
        "### 3. Spin a magnetyzm atomu\n",
        "- **Zakaz Pauliego**: Elektrony w atomie dobierają się w pary o przeciwnych spinach, co skutkuje brakiem momentu magnetycznego w atomie.\n",
        "- **Niesparowane elektrony**: Jeśli atom posiada niesparowane elektrony, jego moment magnetyczny nie znosi się, co sprawia, że atom wykazuje właściwości magnetyczne.\n",
        "\n",
        "### 4. Przykład: srebro\n",
        "Atom srebra posiada jeden niesparowany elektron, co sprawia, że jest on słabym paramagnetykiem. Jednak w praktyce reakcja srebra na magnes jest bardzo słaba, ponieważ moment magnetyczny jest niewielki.\n",
        "\n",
        "### 5. Podsumowanie\n",
        "Magnetyzm wynika z właściwości spinowych elektronów. Obecność niesparowanych elektronów w atomie decyduje o jego właściwościach magnetycznych. Zrozumienie tych mechanizmów pozwala na wyjaśnienie zjawisk magnetycznych w różnych materiałach.\n"
      ],
      "metadata": {
        "id": "ROHF6LuJ2DVR"
      }
    }
  ]
}