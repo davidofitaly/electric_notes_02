{
  "nbformat": 4,
  "nbformat_minor": 0,
  "metadata": {
    "colab": {
      "provenance": [],
      "authorship_tag": "ABX9TyMPBd8RNssKXslWWnh4Tn+b",
      "include_colab_link": true
    },
    "kernelspec": {
      "name": "python3",
      "display_name": "Python 3"
    },
    "language_info": {
      "name": "python"
    }
  },
  "cells": [
    {
      "cell_type": "markdown",
      "metadata": {
        "id": "view-in-github",
        "colab_type": "text"
      },
      "source": [
        "<a href=\"https://colab.research.google.com/github/davidofitaly/electric_notes_02/blob/main/03_magnetism/03_ferromagnetism.ipynb\" target=\"_parent\"><img src=\"https://colab.research.google.com/assets/colab-badge.svg\" alt=\"Open In Colab\"/></a>"
      ]
    },
    {
      "cell_type": "markdown",
      "source": [
        "##Niezwykły ferromagnetyzm\n",
        "\n",
        "## 1. Wprowadzenie\n",
        "\n",
        "Ferromagnetyzm to zjawisko magnetyczne występujące w niektórych materiałach, które wykazują silne przyciąganie do zewnętrznego pola magnetycznego. Jest to jedno z najbardziej znanych i szeroko wykorzystywanych zjawisk magnetycznych w technologii.\n",
        "\n",
        "## 2. Skąd wziął się ferromagnetyzm?\n",
        "\n",
        "Ludzkość zna i wykorzystuje ferromagnetyzm od ponad 1000 lat. To dzięki ferromagnetyzmowi chiński generał Cheng Ho był w stanie w 1433 roku dopłynąć do Afryki, a Kolumb w 1492 roku do Ameryki. Dzięki ferromagnetyzmowi udało się stworzyć silnik elektryczny oraz doprowadzić prąd elektryczny do naszych domów. Ferromagnetyzm towarzyszył wszystkim wielkim odkryciom naszej cywilizacji i rządził niepodzielnie, aż do czasu wynalezienia tranzystorów.\n",
        "\n",
        "## 3. Magnetyt – naturalny magnes\n",
        "\n",
        "Magnetyt (Fe₃O₄) to minerał wykazujący właściwości magnetyczne, znany od starożytności. Już w IV wieku p.n.e. Chińczycy wykorzystywali magnetytowe igły do orientacji w terenie. W 1064 roku odkryto, że podobne właściwości magnetyczne można uzyskać w żelazie poprzez odpowiednią obróbkę cieplną.\n",
        "\n",
        "## 4. Ferromagnetyzm w żelazie\n",
        "\n",
        "Żelazo (Fe) jest jednym z najbardziej magnetycznych materiałów. Dzięki odpowiedniej strukturze atomowej, atomy żelaza mogą się ustawiać równolegle, tworząc domeny magnetyczne. W wyniku tego materiał staje się silnym magnesem.\n",
        "\n",
        "## 5. Ferromagnetyzm a temperatura\n",
        "\n",
        "Ferromagnetyzm w materiałach jest zależny od temperatury. Powyżej pewnej temperatury, zwanej temperaturą Curie, materia traci swoje właściwości ferromagnetyczne i staje się paramagnetyczna.\n",
        "\n",
        "## 6. Zastosowania ferromagnetyzmu\n",
        "\n",
        "Ferromagnetyzm znajduje szerokie zastosowanie w technologii:\n",
        "\n",
        "- **Silniki elektryczne** – wykorzystują ferromagnetyczne rdzenie do generowania pola magnetycznego.\n",
        "- **Magnesy trwałe** – wykorzystywane w głośnikach, silnikach, urządzeniach elektronicznych.\n",
        "- **Transformatory** – rdzenie ferromagnetyczne zwiększają efektywność transformacji napięcia.\n",
        "\n",
        "## 7. Podsumowanie\n",
        "\n",
        "Ferromagnetyzm to zjawisko, które od wieków odgrywa kluczową rolę w rozwoju technologii. Dzięki właściwościom ferromagnetycznym materiałów, takich jak żelazo, możliwe było stworzenie wielu urządzeń, które ułatwiają nasze codzienne życie.\n",
        "\n"
      ],
      "metadata": {
        "id": "hQIEYBJn6Zlc"
      }
    }
  ]
}