{
  "nbformat": 4,
  "nbformat_minor": 0,
  "metadata": {
    "colab": {
      "provenance": [],
      "authorship_tag": "ABX9TyN5zeesV8eP9f2jtKggSX8r",
      "include_colab_link": true
    },
    "kernelspec": {
      "name": "python3",
      "display_name": "Python 3"
    },
    "language_info": {
      "name": "python"
    }
  },
  "cells": [
    {
      "cell_type": "markdown",
      "metadata": {
        "id": "view-in-github",
        "colab_type": "text"
      },
      "source": [
        "<a href=\"https://colab.research.google.com/github/davidofitaly/electric_notes_02/blob/main/03_magnetism/02_diamagnetism_and_paramagnetism.ipynb\" target=\"_parent\"><img src=\"https://colab.research.google.com/assets/colab-badge.svg\" alt=\"Open In Colab\"/></a>"
      ]
    },
    {
      "cell_type": "markdown",
      "source": [
        "\n",
        "\n",
        "## Czym jest diamagnetyzm i paramagnetyzm?\n",
        "\n",
        "## 1. Diamagnetyzm\n",
        "\n",
        "- **Charakterystyka**: Materia odpycha pole magnetyczne.\n",
        "- **Przyczyna**: Brak niesparowanych elektronów w atomach (pełne powłoki elektronowe).\n",
        "- **Mechanizm**: Pole magnetyczne indukuje w atomach słabe prądy elektronowe przeciwdziałające zewnętrznemu polu (prawo Lenza).\n",
        "- **Siła reakcji**: Bardzo słaba, często niezauważalna w codziennych warunkach.\n",
        "- **Przykłady**: Woda, miedź, srebro, złoto.\n",
        "\n",
        "## 2. Paramagnetyzm\n",
        "\n",
        "- **Charakterystyka**: Materia jest przyciągana przez pole magnetyczne.\n",
        "- **Przyczyna**: Obecność niesparowanych elektronów w atomach lub jonach.\n",
        "- **Siła reakcji**: Słaba, ale wyraźniejsza niż diamagnetyzm.\n",
        "- **Przykłady**: Cez (Cs), magnez (Mg), tlen (O₂ w stanie ciekłym lub gazowym).\n",
        "- **Uwagi**: Wiele pierwiastków, mimo posiadania niesparowanych elektronów, w związkach chemicznych może wykazywać magnetyczną obojętność (np. azot w N₂).\n",
        "\n",
        "## 3. Przykłady atomowe\n",
        "\n",
        "- **Srebro (Ag)**: Jeden niesparowany elektron – słaby paramagnetyk.\n",
        "- **Cez (Cs)**: Jeden niesparowany elektron, minimalny paramagnetyzm.\n",
        "- **Azot (N₂)**: Atomy mają niesparowane elektrony, ale w cząsteczce wszystkie elektrony są sparowane – diamagnetyk.\n",
        "\n",
        "## 4. Podsumowanie\n",
        "\n",
        "- **Diamagnetyzm** → odpychanie od pola magnetycznego, pełne powłoki elektronowe.  \n",
        "- **Paramagnetyzm** → przyciąganie do pola magnetycznego, niesparowane elektrony.  \n",
        "- Siła reakcji w obu przypadkach jest generalnie słaba, ale paramagnetyzm jest wyraźniejszy niż diamagnetyzm.\n"
      ],
      "metadata": {
        "id": "wdIHqjbP4vEA"
      }
    }
  ]
}