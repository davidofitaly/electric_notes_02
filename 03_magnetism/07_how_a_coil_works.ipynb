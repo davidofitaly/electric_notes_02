{
  "nbformat": 4,
  "nbformat_minor": 0,
  "metadata": {
    "colab": {
      "provenance": [],
      "authorship_tag": "ABX9TyPHyu6v1n2+TWV6pTIQK5Pr",
      "include_colab_link": true
    },
    "kernelspec": {
      "name": "python3",
      "display_name": "Python 3"
    },
    "language_info": {
      "name": "python"
    }
  },
  "cells": [
    {
      "cell_type": "markdown",
      "metadata": {
        "id": "view-in-github",
        "colab_type": "text"
      },
      "source": [
        "<a href=\"https://colab.research.google.com/github/davidofitaly/electric_notes_02/blob/main/03_magnetism/07_how_a_coil_works.ipynb\" target=\"_parent\"><img src=\"https://colab.research.google.com/assets/colab-badge.svg\" alt=\"Open In Colab\"/></a>"
      ]
    },
    {
      "cell_type": "markdown",
      "source": [
        "\n",
        "\n",
        "## Jak działa cewka? Od strumienia magnetycznego do indukcyjności\n",
        "\n",
        "## 1. Czym jest cewka?\n",
        "\n",
        "Cewka to element elektryczny składający się z nawiniętego drutu, który po podłączeniu do źródła prądu elektrycznego wytwarza pole magnetyczne. Jest to podstawowy komponent w wielu urządzeniach elektrycznych, takich jak transformatory, silniki czy dławiki.\n",
        "\n",
        "## 2. Jak działa cewka?\n",
        "\n",
        "Gdy przez przewód płynie prąd, wokół niego generuje się pole magnetyczne w kształcie okręgu. Jeśli przewód jest zwinięty w pętlę, pole magnetyczne w jej wnętrzu ulega wzmocnieniu. Dodatkowo, umieszczenie ferromagnetycznego rdzenia, takiego jak żelazo, w pętli jeszcze bardziej wzmacnia pole magnetyczne, ponieważ ferromagnetyki działają jak wzmacniacze pola magnetycznego.\n",
        "\n",
        "## 3. Indukcyjność\n",
        "\n",
        "Indukcyjność to zdolność cewki do magazynowania energii w postaci pola magnetycznego. Im więcej zwojów ma cewka i im większy prąd przez nią płynie, tym większa jest jej indukcyjność. Indukcyjność cewki zależy również od materiału rdzenia oraz jego geometrii.\n",
        "\n",
        "## 4. Wzór na indukcyjność\n",
        "\n",
        "Indukcyjność cewki można obliczyć ze wzoru:\n",
        "\n",
        "$$\n",
        "L = \\frac{{\\mu N^2 A}}{{l}}\n",
        "$$\n",
        "\n",
        "gdzie:\n",
        "- $L$ – indukcyjność cewki,\n",
        "- $\\mu$ – przenikalność magnetyczna materiału rdzenia,\n",
        "- $N$ – liczba zwojów,\n",
        "- $A$ – pole przekroju poprzecznego rdzenia,\n",
        "- $l$ – długość cewki.\n",
        "\n",
        "Z powyższego wzoru wynika, że indukcyjność rośnie z kwadratem liczby zwojów oraz z przenikalnością magnetyczną rdzenia, a maleje z długością cewki.\n",
        "\n",
        "## 5. Zastosowanie cewek\n",
        "\n",
        "Cewki są wykorzystywane w różnych urządzeniach elektrycznych i elektronicznych, takich jak:\n",
        "- **Transformatory** – do zmiany napięcia w obwodach prądu przemiennego.\n",
        "- **Silniki elektryczne** – gdzie cewki wytwarzają pole magnetyczne niezbędne do ruchu wirnika.\n",
        "- **Dławiki** – do tłumienia zakłóceń w obwodach elektronicznych.\n",
        "- **Cewki zapłonowe** – w silnikach spalinowych do generowania wysokiego napięcia niezbędnego do zapłonu mieszanki paliwowej.\n",
        "\n",
        "## 6. Podsumowanie\n",
        "\n",
        "Cewki są kluczowymi elementami w wielu urządzeniach elektrycznych i elektronicznych. Ich zdolność do wytwarzania i magazynowania energii w postaci pola magnetycznego sprawia, że są niezastąpione w różnych zastosowaniach technicznych.\n"
      ],
      "metadata": {
        "id": "_IE0hduZFyOW"
      }
    }
  ]
}