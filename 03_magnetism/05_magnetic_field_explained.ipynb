{
  "nbformat": 4,
  "nbformat_minor": 0,
  "metadata": {
    "colab": {
      "provenance": [],
      "authorship_tag": "ABX9TyNXsv9k3GXw19Kc2F2L7+7i",
      "include_colab_link": true
    },
    "kernelspec": {
      "name": "python3",
      "display_name": "Python 3"
    },
    "language_info": {
      "name": "python"
    }
  },
  "cells": [
    {
      "cell_type": "markdown",
      "metadata": {
        "id": "view-in-github",
        "colab_type": "text"
      },
      "source": [
        "<a href=\"https://colab.research.google.com/github/davidofitaly/electric_notes_02/blob/main/03_magnetism/05_magnetic_field_explained.ipynb\" target=\"_parent\"><img src=\"https://colab.research.google.com/assets/colab-badge.svg\" alt=\"Open In Colab\"/></a>"
      ]
    },
    {
      "cell_type": "markdown",
      "source": [
        "\n",
        "\n",
        "## Pole magnetyczne od podszewki\n",
        "\n",
        "## 1. Jak wygląda pole magnetyczne?\n",
        "\n",
        "Pole magnetyczne jest niewidoczne gołym okiem, ale jego obecność można zaobserwować dzięki pewnym zjawiskom.  \n",
        "Przykładem jest rozsypanie opiłków żelaza na kartce papieru z magnesem. Opiłki układają się w charakterystyczny wzór, wskazując linie pola magnetycznego.  \n",
        "Choć linie te nie istnieją fizycznie, są pomocnym narzędziem do wizualizacji pola magnetycznego.\n",
        "\n",
        "## 2. Strumień magnetyczny\n",
        "\n",
        "Strumień magnetyczny to ilość linii pola magnetycznego przechodzących przez określoną powierzchnię. Wyraża się wzorem:\n",
        "\n",
        "$$\n",
        "\\Phi = B \\cdot A \\cdot \\cos(\\theta)\n",
        "$$\n",
        "\n",
        "gdzie:  \n",
        "- $\\Phi$ – strumień magnetyczny  \n",
        "- $B$ – indukcja magnetyczna  \n",
        "- $A$ – pole powierzchni  \n",
        "- $\\theta$ – kąt między wektorem indukcji a normalną do powierzchni  \n",
        "\n",
        "Strumień magnetyczny jest kluczowy w zjawiskach elektromagnetycznych, np. w indukcji elektromagnetycznej.\n",
        "\n",
        "## 3. Przenikalność magnetyczna\n",
        "\n",
        "Przenikalność magnetyczna $\\mu$ to zdolność materiału do przewodzenia linii pola magnetycznego. Związek między indukcją a natężeniem pola magnetycznego:\n",
        "\n",
        "$$\n",
        "B = \\mu \\cdot H\n",
        "$$\n",
        "\n",
        "gdzie:  \n",
        "- $B$ – indukcja magnetyczna  \n",
        "- $\\mu$ – przenikalność magnetyczna  \n",
        "- $H$ – natężenie pola magnetycznego  \n",
        "\n",
        "Przenikalność zależy od rodzaju materiału i warunków jego użycia.\n",
        "\n",
        "## 4. Natężenie pola magnetycznego\n",
        "\n",
        "Natężenie pola magnetycznego $H$ to miara siły pola w danym punkcie. Dla prostoliniowego przewodu z prądem:\n",
        "\n",
        "$$\n",
        "H = \\frac{I}{2 \\pi r}\n",
        "$$\n",
        "\n",
        "gdzie:  \n",
        "- $I$ – natężenie prądu  \n",
        "- $r$ – odległość od przewodu  \n",
        "\n",
        "Natężenie pola jest istotne przy projektowaniu urządzeń elektromagnetycznych.\n",
        "\n",
        "## 5. Podsumowanie\n",
        "\n",
        "Podstawowe pojęcia pola magnetycznego:  \n",
        "- **Linie pola** – wizualizacja pola  \n",
        "- **Strumień magnetyczny** – ilość linii przechodzących przez powierzchnię  \n",
        "- **Przenikalność magnetyczna** – zdolność materiału do przewodzenia linii pola  \n",
        "- **Natężenie pola** – siła pola w punkcie  \n",
        "\n",
        "Zrozumienie tych pojęć jest fundamentem dla wielu technologii, od silników elektrycznych po urządzenia komunikacyjne.\n",
        "\n"
      ],
      "metadata": {
        "id": "A4KtjAbcB6pF"
      }
    }
  ]
}