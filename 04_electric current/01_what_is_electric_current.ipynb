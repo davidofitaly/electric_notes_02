{
  "nbformat": 4,
  "nbformat_minor": 0,
  "metadata": {
    "colab": {
      "provenance": [],
      "authorship_tag": "ABX9TyOaeD019hhwsRVRb/Pb474v",
      "include_colab_link": true
    },
    "kernelspec": {
      "name": "python3",
      "display_name": "Python 3"
    },
    "language_info": {
      "name": "python"
    }
  },
  "cells": [
    {
      "cell_type": "markdown",
      "metadata": {
        "id": "view-in-github",
        "colab_type": "text"
      },
      "source": [
        "<a href=\"https://colab.research.google.com/github/davidofitaly/electric_notes_02/blob/main/04_electric%20current/01_what_is_electric_current.ipynb\" target=\"_parent\"><img src=\"https://colab.research.google.com/assets/colab-badge.svg\" alt=\"Open In Colab\"/></a>"
      ]
    },
    {
      "cell_type": "markdown",
      "source": [
        "\n",
        "\n",
        "## 1. Czym jest prąd elektryczny?\n",
        "\n",
        "Prąd elektryczny to uporządkowany ruch ładunków elektrycznych, najczęściej elektronów, w przewodniku pod wpływem różnicy potencjałów, czyli napięcia. Ten przepływ ładunków umożliwia zasilanie urządzeń elektrycznych, takich jak żarówki czy grzejniki, które zamieniają energię elektryczną na światło lub ciepło.\n",
        "\n",
        "## 2. Jak powstaje prąd?\n",
        "\n",
        "Aby prąd mógł płynąć, niezbędne jest źródło napięcia, które wytwarza różnicę potencjałów między dwoma punktami obwodu. Im większa ta różnica, tym większy prąd może popłynąć. Napięcie działa jak siła napędowa dla elektronów, umożliwiając ich ruch w przewodniku.\n",
        "\n",
        "## 3. Jednostka natężenia prądu\n",
        "\n",
        "Natężenie prądu elektrycznego to ilość ładunku przepływającego przez przekrój poprzeczny przewodnika w jednostce czasu. Wyraża się je wzorem:\n",
        "\n",
        "$$\n",
        "I = \\frac{Q}{t}\n",
        "$$\n",
        "\n",
        "gdzie:\n",
        "- $I$ – natężenie prądu (w amperach, A),\n",
        "- $Q$ – ładunek elektryczny (w kulombach, C),\n",
        "- $t$ – czas przepływu ładunku (w sekundach, s).\n",
        "\n",
        "Jednostką natężenia prądu w układzie SI jest amper (A), który odpowiada przepływowi jednego kulomba ładunku w czasie jednej sekundy:\n",
        "\n",
        "$$\n",
        "1\\ \\text{A} = \\frac{1\\ \\text{C}}{1\\ \\text{s}}\n",
        "$$\n",
        "\n",
        "Przykładowo, natężenie prądu 1 A oznacza, że przez dany punkt przewodu przepływa około $6,242 \\times 10^{18}$ elektronów na sekundę.\n",
        "\n",
        "## 4. Prędkość elektronów\n",
        "\n",
        "Choć elektrony poruszają się z prędkościami rzędu kilku milimetrów na sekundę, efekt ich ruchu w obwodzie jest niemal natychmiastowy. Dzieje się tak dzięki zjawisku reakcji łańcuchowej: gdy jeden elektron przemieszcza się, \"zwalnia\" miejsce dla kolejnego, co pozwala na szybkie przekazywanie energii przez cały przewód.\n",
        "\n",
        "## 5. Podsumowanie\n",
        "\n",
        "Prąd elektryczny to uporządkowany ruch ładunków elektrycznych, napędzany przez różnicę potencjałów. Jest podstawą funkcjonowania większości urządzeń elektrycznych, a jego zrozumienie jest kluczowe dla nauki o elektrotechnice.\n"
      ],
      "metadata": {
        "id": "R06i93xbO8hJ"
      }
    }
  ]
}