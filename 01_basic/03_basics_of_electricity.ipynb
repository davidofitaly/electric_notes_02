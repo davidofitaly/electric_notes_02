{
  "nbformat": 4,
  "nbformat_minor": 0,
  "metadata": {
    "colab": {
      "provenance": [],
      "authorship_tag": "ABX9TyNTlx3apd/Irm/NwPdrOaQz",
      "include_colab_link": true
    },
    "kernelspec": {
      "name": "python3",
      "display_name": "Python 3"
    },
    "language_info": {
      "name": "python"
    }
  },
  "cells": [
    {
      "cell_type": "markdown",
      "metadata": {
        "id": "view-in-github",
        "colab_type": "text"
      },
      "source": [
        "<a href=\"https://colab.research.google.com/github/davidofitaly/electric_notes_02/blob/main/01_basic/03_basics_of_electricity.ipynb\" target=\"_parent\"><img src=\"https://colab.research.google.com/assets/colab-badge.svg\" alt=\"Open In Colab\"/></a>"
      ]
    },
    {
      "cell_type": "markdown",
      "source": [
        "# Wielkości wektorowe i skalarne\n",
        "\n",
        "\n",
        "## Wielkości skalarne i wektorowe\n",
        "\n",
        "### 1. Definicja\n",
        "\n",
        "- **Wielkość skalarna** – opisywana tylko przez wartość liczbową i jednostkę, bez kierunku.  \n",
        "  Przykłady: masa $m$, temperatura $T$, ładunek elektryczny $q$.  \n",
        "\n",
        "- **Wielkość wektorowa** – oprócz wartości ma także **kierunek i zwrot**.  \n",
        "  Przykłady: siła $\\vec{F}$, przyspieszenie $\\vec{a}$, natężenie pola elektrycznego $\\vec{E}$.\n",
        "\n",
        "### 2. Przykłady\n",
        "\n",
        "| Wielkość      | Skalar / Wektor | Uwagi                              |\n",
        "|---------------|-----------------|-----------------------------------|\n",
        "| Temperatura   | Skalar          | Kierunek nie ma znaczenia         |\n",
        "| Masa          | Skalar          | Opis tylko przez wartość i jednostkę |\n",
        "| Siła          | Wektor          | Wymaga wartości, kierunku i zwrotu |\n",
        "| Prędkość      | Wektor          | Ma znaczenie kierunek ruchu        |\n",
        "\n",
        "### 3. Zasady działania\n",
        "\n",
        "- **Sklary** dodaje się algebraicznie (np. $5 \\,\\text{kg} + 3 \\,\\text{kg} = 8 \\,\\text{kg}$).  \n",
        "- **Wektory** dodaje się z uwzględnieniem kierunku (np. metodą równoległoboku).\n",
        "\n",
        "### 4. Podsumowanie\n",
        "\n",
        "- Wielkości **skalarne** – wartość + jednostka.  \n",
        "- Wielkości **wektorowe** – wartość + kierunek + zwrot.  \n",
        "- Oznaczenia: $m$ (skalar), $\\vec{F}$ (wektor).\n",
        "\n",
        "\n"
      ],
      "metadata": {
        "id": "SM_0ls1zUO8K"
      }
    }
  ]
}