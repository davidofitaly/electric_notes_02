{
  "nbformat": 4,
  "nbformat_minor": 0,
  "metadata": {
    "colab": {
      "provenance": [],
      "authorship_tag": "ABX9TyO+4rI2MrCf7TrS2yJqhpAW",
      "include_colab_link": true
    },
    "kernelspec": {
      "name": "python3",
      "display_name": "Python 3"
    },
    "language_info": {
      "name": "python"
    }
  },
  "cells": [
    {
      "cell_type": "markdown",
      "metadata": {
        "id": "view-in-github",
        "colab_type": "text"
      },
      "source": [
        "<a href=\"https://colab.research.google.com/github/davidofitaly/electric_notes_02/blob/main/01_basic/03_basics_of_electricity.ipynb\" target=\"_parent\"><img src=\"https://colab.research.google.com/assets/colab-badge.svg\" alt=\"Open In Colab\"/></a>"
      ]
    },
    {
      "cell_type": "markdown",
      "source": [
        "# Wielkości wektorowe i skalarne\n",
        "\n",
        "### 1. Wielkości podstawowe\n",
        "\n",
        "- **Napięcie elektryczne (U)** – różnica potencjałów elektrycznych między dwoma punktami obwodu.  \n",
        "  Jednostka: **wolt (V)**  \n",
        "  Przykład: napięcie w gniazdku domowym wynosi 230 V  \n",
        "\n",
        "- **Natężenie prądu (I)** – ilość ładunków przepływających w jednostce czasu.  \n",
        "  Jednostka: **amper (A)**  \n",
        "  Przykład: przez czajnik elektryczny płynie około 8,5 A  \n",
        "\n",
        "- **Opór elektryczny (R)** – wielkość opisująca, jak bardzo materiał utrudnia przepływ prądu.  \n",
        "  Jednostka: **om (Ω)**  \n",
        "  Przykład: opór żarówki 40 W wynosi około 1320 Ω  \n",
        "\n",
        "\n",
        "\n",
        "### 2. Podstawowe wzory\n",
        "\n",
        "- **Prawo Ohma**  \n",
        "  $$U = I \\cdot R$$\n",
        "\n",
        "- **Natężenie prądu**  \n",
        "  $$I = \\frac{U}{R}$$\n",
        "\n",
        "- **Opór**  \n",
        "  $$R = \\frac{U}{I}$$\n",
        "\n",
        "- **Moc elektryczna**  \n",
        "  $$P = U \\cdot I$$\n",
        "\n",
        "\n",
        "\n",
        "### 3. Przykład obliczeń\n",
        "\n",
        "Czajnik elektryczny o mocy 2000 W podłączony do sieci 230 V:\n",
        "\n",
        "$$I = \\frac{P}{U} = \\frac{2000}{230} \\approx 8{,}7 \\, A$$\n",
        "\n",
        "Oznacza to, że podczas pracy przez czajnik płynie prąd o natężeniu ok. 8,7 A.\n",
        "\n",
        "\n",
        "\n",
        "### 4. Bezpieczeństwo\n",
        "\n",
        "- Podłączenie urządzenia do **zbyt niskiego napięcia** → działa słabiej lub wcale.  \n",
        "- Podłączenie do **zbyt wysokiego napięcia** → ryzyko uszkodzenia.  \n",
        "- **Bezpieczniki** chronią instalację przed przeciążeniem i zwarciem.  \n",
        "- Typowe wartości bezpieczników domowych: 10 A, 16 A.  \n",
        "\n",
        "\n",
        "### 5. Tabela porównawcza\n",
        "\n",
        "| Urządzenie        | Napięcie projektowe | Napięcie w sieci | Efekt działania                                   |\n",
        "|------------------|------------------|----------------|--------------------------------------------------|\n",
        "| Żelazko           | 230 V            | 230 V          | Działa normalnie, pełna moc                     |\n",
        "| Żelazko           | 230 V            | 200 V          | Grzeje słabiej, moc spada                       |\n",
        "| Żelazko           | 230 V            | 250 V          | Może się spalić, ryzyko uszkodzenia             |\n",
        "| Ładowarka USB\n"
      ],
      "metadata": {
        "id": "SM_0ls1zUO8K"
      }
    }
  ]
}