{
  "nbformat": 4,
  "nbformat_minor": 0,
  "metadata": {
    "colab": {
      "provenance": [],
      "authorship_tag": "ABX9TyM75SbTFXd0LClnpKUmaUqJ",
      "include_colab_link": true
    },
    "kernelspec": {
      "name": "python3",
      "display_name": "Python 3"
    },
    "language_info": {
      "name": "python"
    }
  },
  "cells": [
    {
      "cell_type": "markdown",
      "metadata": {
        "id": "view-in-github",
        "colab_type": "text"
      },
      "source": [
        "<a href=\"https://colab.research.google.com/github/davidofitaly/electric_notes_02/blob/main/01_basic/02_physical_units_and_scientific_notation.ipynb\" target=\"_parent\"><img src=\"https://colab.research.google.com/assets/colab-badge.svg\" alt=\"Open In Colab\"/></a>"
      ]
    },
    {
      "cell_type": "markdown",
      "source": [
        "\n",
        "\n",
        "# Jednostki fizyczne i notacja naukowa\n",
        "\n",
        "## Jednostki fizyczne\n",
        "\n",
        "W nauce stosuje się **układ SI (System Międzynarodowy)** do wyrażania wielkości fizycznych. Każda wielkość ma przypisaną jednostkę:\n",
        "\n",
        "- **Długość** – metr (m)  \n",
        "- **Masa** – kilogram (kg)  \n",
        "- **Czas** – sekunda (s)  \n",
        "- **Natężenie prądu** – amper (A)  \n",
        "- **Temperatura termodynamiczna** – kelwin (K)  \n",
        "- **Ilość substancji** – mol (mol)  \n",
        "- **Natężenie światła** – kandela (cd)\n",
        "\n",
        "### Notacja naukowa\n",
        "\n",
        "Dla bardzo dużych lub bardzo małych liczb stosuje się **notację naukową**:\n",
        "\n",
        "- Liczby zapisuje się w formie \\( a \\cdot 10^n \\), gdzie:\n",
        "  - \\( 1 \\leq a < 10 \\)\n",
        "  - \\( n \\) – całkowita potęga dziesięciu\n",
        "\n",
        "**Przykłady:**\n",
        "\n",
        "- \\( 0,00023 = 2,3 \\cdot 10^{-4} \\)  \n",
        "- \\( 5 600 000 = 5,6 \\cdot 10^6 \\)\n",
        "\n",
        "### Prefiksy SI\n",
        "\n",
        "Dla ułatwienia używa się przedrostków:\n",
        "\n",
        "| Prefiks | Symbol | Wartość |\n",
        "|---------|--------|---------|\n",
        "| kilo    | k      | \\( 10^3 \\) |\n",
        "| mega    | M      | \\( 10^6 \\) |\n",
        "| giga    | G      | \\( 10^9 \\) |\n",
        "| mili    | m      | \\( 10^{-3} \\) |\n",
        "| mikro   | μ      | \\( 10^{-6} \\) |\n",
        "| nano    | n      | \\( 10^{-9} \\) |\n",
        "\n",
        "### Podsumowanie\n",
        "\n",
        "- Układ SI definiuje podstawowe jednostki fizyczne potrzebne do mierzenia wielkości w nauce i technice  \n",
        "- Notacja naukowa ułatwia zapis bardzo dużych i bardzo małych liczb  \n",
        "- Prefiksy SI pozwalają szybko określić rząd wielkości wielkości fizycznej\n"
      ],
      "metadata": {
        "id": "o22dy9FKdMEx"
      }
    }
  ]
}