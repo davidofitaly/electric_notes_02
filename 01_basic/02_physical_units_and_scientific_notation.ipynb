{
  "nbformat": 4,
  "nbformat_minor": 0,
  "metadata": {
    "colab": {
      "provenance": [],
      "authorship_tag": "ABX9TyNB/egZ4Qjwcorl69HpLV93",
      "include_colab_link": true
    },
    "kernelspec": {
      "name": "python3",
      "display_name": "Python 3"
    },
    "language_info": {
      "name": "python"
    }
  },
  "cells": [
    {
      "cell_type": "markdown",
      "metadata": {
        "id": "view-in-github",
        "colab_type": "text"
      },
      "source": [
        "<a href=\"https://colab.research.google.com/github/davidofitaly/electric_notes_02/blob/main/01_basic/02_physical_units_and_scientific_notation.ipynb\" target=\"_parent\"><img src=\"https://colab.research.google.com/assets/colab-badge.svg\" alt=\"Open In Colab\"/></a>"
      ]
    },
    {
      "cell_type": "markdown",
      "source": [
        "\n",
        "\n",
        "# Jednostki fizyczne i notacja naukowa\n",
        "\n",
        "# 16_physical_units_and_scientific_notation\n",
        "\n",
        "### 1. Układ jednostek SI\n",
        "\n",
        "Układ SI (System Międzynarodowy) to zbiór jednostek miar, który umożliwia jednolite wyrażanie wielkości fizycznych.\n",
        "\n",
        "| Wielkość               | Jednostka | Symbol |\n",
        "|------------------------|-----------|--------|\n",
        "| Długość                | metr      | m      |\n",
        "| Masa                   | kilogram  | kg     |\n",
        "| Czas                   | sekunda   | s      |\n",
        "| Prąd elektryczny       | amper     | A      |\n",
        "| Temperatura            | kelwin    | K      |\n",
        "| Ilość substancji       | mol       | mol    |\n",
        "| Natężenie światła      | kandela   | cd     |\n",
        "\n",
        "Na podstawie tych jednostek wyznaczone zostały jednostki pochodne, np. ładunek elektryczny:\n",
        "\n",
        "$1 \\, \\text{C} = 1 \\, \\text{A} \\cdot 1 \\, \\text{s}$\n",
        "\n",
        "### 2. Notacja naukowa\n",
        "\n",
        "Notacja naukowa pozwala na zapis bardzo dużych lub bardzo małych liczb w postaci iloczynu liczby $a$ (mantysy) oraz potęgi liczby 10:\n",
        "\n",
        "$x = a \\cdot 10^n$\n",
        "\n",
        "gdzie:\n",
        "- $1 \\le a < 10$  \n",
        "- $n$ – całkowita potęga liczby 10\n",
        "\n",
        "**Przykłady:**\n",
        "- $0,00023 = 2,3 \\cdot 10^{-4}$  \n",
        "- $5\\,600\\,000 = 5,6 \\cdot 10^6$\n",
        "\n",
        "### 3. Przedrostki układu SI\n",
        "\n",
        "| Prefiks | Symbol | Potęga 10 | Przykład    |\n",
        "|---------|--------|-----------|-------------|\n",
        "| kilo    | k      | $10^3$    | 1 km = $10^3$ m |\n",
        "| mega    | M      | $10^6$    | 1 MW = $10^6$ W |\n",
        "| giga    | G      | $10^9$    | 1 GW = $10^9$ W |\n",
        "| mili    | m      | $10^{-3}$ | 1 mm = $10^{-3}$ m |\n",
        "| mikro   | μ      | $10^{-6}$ | 1 μF = $10^{-6}$ F |\n",
        "| nano    | n      | $10^{-9}$ | 1 ns = $10^{-9}$ s |\n",
        "\n",
        "**Przykłady zastosowania:**\n",
        "- $5000 \\, \\text{ms} = 5000 \\cdot 10^{-3} \\, \\text{s} = 5 \\, \\text{s}$  \n",
        "- $1 \\, \\text{V/cm} = 1 \\, \\text{V} \\cdot 10^2 \\, \\text{m}^{-1} = 100 \\, \\text{V/m}$  \n",
        "- $2,3 \\, \\text{cm}^3 = 2,3 \\cdot 10^{-6} \\, \\text{m}^3 = 0,0000023 \\, \\text{m}^3$\n",
        "\n",
        "### 4. Podsumowanie\n",
        "\n",
        "- Układ SI definiuje podstawowe jednostki fizyczne, które są podstawą pomiarów w nauce i technice.  \n",
        "- Notacja naukowa umożliwia zapis bardzo dużych i bardzo małych liczb w sposób zwięzły i przejrzysty.  \n",
        "- Przedrostki układu SI pozwalają na łatwe wyrażenie liczb w różnych rzędach wielkości.\n"
      ],
      "metadata": {
        "id": "o22dy9FKdMEx"
      }
    }
  ]
}