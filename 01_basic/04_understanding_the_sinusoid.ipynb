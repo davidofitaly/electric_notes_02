{
  "nbformat": 4,
  "nbformat_minor": 0,
  "metadata": {
    "colab": {
      "provenance": [],
      "authorship_tag": "ABX9TyNGuWhKoy8BkRWQEXJz4KGY",
      "include_colab_link": true
    },
    "kernelspec": {
      "name": "python3",
      "display_name": "Python 3"
    },
    "language_info": {
      "name": "python"
    }
  },
  "cells": [
    {
      "cell_type": "markdown",
      "metadata": {
        "id": "view-in-github",
        "colab_type": "text"
      },
      "source": [
        "<a href=\"https://colab.research.google.com/github/davidofitaly/electric_notes_02/blob/main/01_basic/04_understanding_the_sinusoid.ipynb\" target=\"_parent\"><img src=\"https://colab.research.google.com/assets/colab-badge.svg\" alt=\"Open In Colab\"/></a>"
      ]
    },
    {
      "cell_type": "markdown",
      "source": [
        "\n",
        "\n",
        "# Zrozumieć sinusoidę\n",
        "\n",
        "### 1. Co to jest sinusoida?\n",
        "\n",
        "Sinusoida to wykres funkcji sinus — wygląda jak płynna, regularna fala. Nie jest to \"jakakolwiek fala\", ale specyficzny kształt, który wyróżnia się harmonijną symetrią i periodycznością.\n",
        "\n",
        "### 2. Skąd bierze się sinusoida?\n",
        "\n",
        "Sinusoidę naturalnie generuje najprostszy typ generatora prądu przemiennego dzięki zjawisku **indukcji elektromagnetycznej**. Ten kształt nie był wyborem — po prostu wynikał z fizycznego działania generatora wytwarzającego prąd zmienny.\n",
        "\n",
        "### 3. Co to znaczy indukcja elektromagnetyczna?\n",
        "\n",
        "Jeśli zmieniasz pole magnetyczne wokół przewodu (np. poruszając magnesem), generujesz prąd elektryczny — to właśnie indukcja elektromagnetyczna. Dzięki niej generator wytwarza napięcie o przebiegu sinusoidalnym.\n",
        "\n",
        "### 4. Dlaczego sinusoida, a nie inne przebiegi?\n",
        "\n",
        "- Inne przebiegi, jak prostokątne czy trójkątne, wymagają bardziej zaawansowanej elektroniki, która wtedy nie istniała.  \n",
        "- Sinusoida była \"naturalnym\" efektem działania generatora — najprostszym i najłatwiejszym do uzyskania.\n",
        "\n",
        "### 5. Znaczenie sinusoidy\n",
        "\n",
        "- Dzięki sinusoidzie prąd zmienny był od początku efektywnie przesyłany i wykorzystany.  \n",
        "- Ta forma prądu stała się fundamentem dla rozwoju systemów energetycznych oraz domowych instalacji elektrycznych.\n",
        "\n",
        "### Podsumowanie\n",
        "\n",
        "Sinusoida to matematycznie i fizycznie naturalny kształt prądu przemiennego, wynikający z jego indukcyjnego źródła. Nie jest wynikiem świadomego wyboru inżynierów, a efektem działania fizycznego generatora i prawa indukcji.\n"
      ],
      "metadata": {
        "id": "CqjCBjY1ZCTU"
      }
    }
  ]
}