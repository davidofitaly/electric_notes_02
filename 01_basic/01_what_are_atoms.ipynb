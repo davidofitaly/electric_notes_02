{
  "nbformat": 4,
  "nbformat_minor": 0,
  "metadata": {
    "colab": {
      "provenance": [],
      "authorship_tag": "ABX9TyMEYPGHy71MMtDAmsWPtTtQ",
      "include_colab_link": true
    },
    "kernelspec": {
      "name": "python3",
      "display_name": "Python 3"
    },
    "language_info": {
      "name": "python"
    }
  },
  "cells": [
    {
      "cell_type": "markdown",
      "metadata": {
        "id": "view-in-github",
        "colab_type": "text"
      },
      "source": [
        "<a href=\"https://colab.research.google.com/github/davidofitaly/electric_notes_02/blob/main/01_basic/01_what_are_atoms.ipynb\" target=\"_parent\"><img src=\"https://colab.research.google.com/assets/colab-badge.svg\" alt=\"Open In Colab\"/></a>"
      ]
    },
    {
      "cell_type": "markdown",
      "source": [
        "# Kilka słów o atomach\n",
        "\n",
        "## Co to są atomy?\n",
        "\n",
        "### 1. Atomy jako składniki materii\n",
        "Atomy to **podstawowe elementy materii** — niezwykle małe cząstki. W jednym ziarnku soli może ich być nawet **1 200 000 000 000 000 000**. Atomy łączą się, tworząc molekuły (np. woda H₂O to dwa atomy wodoru i jeden atom tlenu).\n",
        "\n",
        "Materię dzielimy na stany skupienia:\n",
        "\n",
        "- **Ciała stałe** – atomy ciasno upakowane, mała swoboda ruchu  \n",
        "- **Ciecze** – molekuły mogą się przemieszczać, większe odległości między nimi  \n",
        "- **Gazy** – cząstki mogą poruszać się niemal swobodnie\n",
        "\n",
        "### 2. Budowa atomu\n",
        "Atom składa się z:\n",
        "- **Jądra** zawierającego protony (dodatnie) i neutrony (obojętne)\n",
        "- **Elektronów** krążących wokół jądra\n",
        "\n",
        "Jądro stanowi niemal całkowitą masę atomu, a elektrony tworzą chmurę orbitalną.\n",
        "\n",
        "Model Bohra (1913) przedstawia protony, neutrony i elektrony jako cząstki poruszające się na orbitach. W rzeczywistości natomiast elektrony mają **duchowo-falową** naturę i można jedynie określić ich pozycję z pewnym prawdopodobieństwem — to podstawa **fizyki kwantowej**.\n",
        "\n",
        "### 3. Dualna natura elektronu\n",
        "Elektron zachowuje się zarówno jak cząstka, jak i fala. Model kwantowy (Schrödingera) pokazuje, że choć możemy określać pewne właściwości, nie możemy jednocześnie dokładnie znać położenia i prędkości elektronu — wynika z tego zasada nieoznaczoności. Na potrzeby elektrotechniki zwykle wystarcza klasyczny model atomu.\n",
        "\n",
        "### 4. Atomy a elektryczność\n",
        "Każdy atom ma wyrównaną liczbę protonów i elektronów, co sprawia, że jest elektrycznie obojętny. Gdy traci lub zyskuje elektron, staje się jonem, czyli:\n",
        "- **Jonie dodatnim** (brakuje elektronu)  \n",
        "- **Jonie ujemnym** (zyskuje elektron)  \n",
        "\n",
        "### Podsumowanie\n",
        "- Atomy to najmniejsze składniki materii, które budują wszystko, co widzimy\n",
        "- Mają strukturę jądra i otaczających je elektronów\n",
        "- Elektrony mają dualną naturę: falową i korpuskularną — niemniej do zastosowań w elektryce model klasyczny jest wystarczający\n",
        "- Różnica w liczbie elektronów i protonów zamienia atom w jon, co ma kluczowe znaczenie w elektrostatyce i elektrochemii\n"
      ],
      "metadata": {
        "id": "ZZtTJbXZIGmZ"
      }
    }
  ]
}