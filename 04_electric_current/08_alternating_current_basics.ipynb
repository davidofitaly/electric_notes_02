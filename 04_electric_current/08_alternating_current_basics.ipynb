{
  "nbformat": 4,
  "nbformat_minor": 0,
  "metadata": {
    "colab": {
      "provenance": [],
      "authorship_tag": "ABX9TyOtohVjwqeK+XrnALv3lGHf",
      "include_colab_link": true
    },
    "kernelspec": {
      "name": "python3",
      "display_name": "Python 3"
    },
    "language_info": {
      "name": "python"
    }
  },
  "cells": [
    {
      "cell_type": "markdown",
      "metadata": {
        "id": "view-in-github",
        "colab_type": "text"
      },
      "source": [
        "<a href=\"https://colab.research.google.com/github/davidofitaly/electric_notes_02/blob/main/04_electric_current/08_alternating_current_basics.ipynb\" target=\"_parent\"><img src=\"https://colab.research.google.com/assets/colab-badge.svg\" alt=\"Open In Colab\"/></a>"
      ]
    },
    {
      "cell_type": "markdown",
      "source": [
        "# Prąd przemienny – podstawy\n",
        "\n",
        "## 1. Wprowadzenie\n",
        "- Prąd przemienny (AC) zmienia kierunek i wartość w czasie.\n",
        "- Jest podstawą systemów elektroenergetycznych.\n",
        "- Artykuł wyjaśnia podstawowe pojęcia: amplituda, wartość skuteczna (RMS), okres, częstotliwość, pulsacja i przesunięcie fazowe.\n",
        "\n",
        "## 2. Amplituda i wartość skuteczna (RMS)\n",
        "- **Amplituda (Uₘ)** – maksymalna wartość napięcia w cyklu:  \n",
        "  $$\n",
        "  U_m \\approx 325\\ V \\quad \\text{dla sieci 230 V RMS}\n",
        "  $$\n",
        "- **Wartość skuteczna (RMS)** – parametr używany w pomiarach, porównywalny z napięciem stałym:  \n",
        "  $$\n",
        "  U_{RMS} = \\frac{U_m}{\\sqrt{2}} \\approx 230\\ V\n",
        "  $$\n",
        "- **TrueRMS mierniki**:\n",
        "  1. Podnoszą próbki napięcia do kwadratu\n",
        "  2. Obliczają średnią\n",
        "  3. Biorą pierwiastek kwadratowy  \n",
        "- **Tanie multimetry** stosują przybliżenie $U_{RMS} = U_m / 1,41$, które działa poprawnie tylko dla sinusoidy.\n",
        "\n",
        "## 3. Okres i częstotliwość\n",
        "- **Okres (T)** – czas trwania jednego cyklu:  \n",
        "  $$\n",
        "  T = 0,02\\ s \\quad \\text{(Polska, 50 Hz)}\n",
        "  $$\n",
        "- **Częstotliwość (f)** – liczba cykli w ciągu sekundy:  \n",
        "  $$\n",
        "  f = \\frac{1}{T} = 50\\ Hz\n",
        "  $$\n",
        "\n",
        "## 4. Pulsacja (ω)\n",
        "- **Pulsacja (ω)** – częstość kołowa sygnału:  \n",
        "  $$\n",
        "  \\omega = 2 \\pi f\n",
        "  $$\n",
        "- Określa prędkość zmiany fazy sygnału w radianach na sekundę.\n",
        "\n",
        "## 5. Przesunięcie fazowe\n",
        "- **Faza** – punkt na sinusoidzie, np. szczyt lub przejście przez zero.\n",
        "- **Przesunięcie fazowe (φ)** – różnica czasu między napięciem a prądem, spowodowana elementami indukcyjnymi lub pojemnościowymi.\n",
        "- W systemach **trójfazowych** każda sinusoidę przesunięta jest o 120° względem pozostałych.\n",
        "\n",
        "## 6. Wartość chwilowa\n",
        "- Prąd lub napięcie w dowolnym momencie opisuje wzór:  \n",
        "  $$\n",
        "  u(t) = U_m \\cdot \\sin(\\omega t + \\varphi_0)\n",
        "  $$\n",
        "  gdzie:  \n",
        "  - $U_m$ – amplituda  \n",
        "  - $\\omega$ – pulsacja  \n",
        "  - $\\varphi_0$ – faza początkowa\n",
        "\n",
        "## 7. Pomiar i przyrządy\n",
        "- **Tanie multimetry**: pokazują przybliżone RMS dla sinusoidy.\n",
        "- **Oscyloskopy**: pozwalają zobaczyć pełny przebieg napięcia.\n",
        "- **TrueRMS**: dokładny pomiar wartości skutecznej nawet dla nienaizowanych przebiegów.\n",
        "\n",
        "## 8. Podsumowanie w tabeli\n",
        "\n",
        "| Pojęcie                  | Znaczenie                                                                 |\n",
        "|--------------------------|---------------------------------------------------------------------------|\n",
        "| Amplituda (Uₘ)           | Maksymalna wartość napięcia (ok. 325 V w sieci 230 V)                     |\n",
        "| Wartość skuteczna (RMS)  | Porównywalna z DC, w sieci domowej 230 V                                  |\n",
        "| Okres (T)                 | Czas jednego cyklu (~0,02 s)                                             |\n",
        "| Częstotliwość (f)         | Liczba cykli na sekundę (50 Hz)                                           |\n",
        "| Pulsacja (ω)              | $2\\pi f$ (rad/s)                                                          |\n",
        "| Przesunięcie fazowe (φ)   | Opóźnienie między napięciem a prądem; w sieci trójfazowej 120°           |\n",
        "| Wartość chwilowa           | $u(t) = U_m \\cdot \\sin(\\omega t + \\varphi_0)$                            |\n",
        "\n",
        "\n"
      ],
      "metadata": {
        "id": "QjaCqgqcj31_"
      }
    }
  ]
}