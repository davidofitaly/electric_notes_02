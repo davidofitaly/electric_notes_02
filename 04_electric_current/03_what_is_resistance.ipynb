{
  "nbformat": 4,
  "nbformat_minor": 0,
  "metadata": {
    "colab": {
      "provenance": [],
      "authorship_tag": "ABX9TyO7mIO50ppzU1jzcuwUk8xD",
      "include_colab_link": true
    },
    "kernelspec": {
      "name": "python3",
      "display_name": "Python 3"
    },
    "language_info": {
      "name": "python"
    }
  },
  "cells": [
    {
      "cell_type": "markdown",
      "metadata": {
        "id": "view-in-github",
        "colab_type": "text"
      },
      "source": [
        "<a href=\"https://colab.research.google.com/github/davidofitaly/electric_notes_02/blob/main/04_electric_current/03_what_is_resistance.ipynb\" target=\"_parent\"><img src=\"https://colab.research.google.com/assets/colab-badge.svg\" alt=\"Open In Colab\"/></a>"
      ]
    },
    {
      "cell_type": "markdown",
      "source": [
        "\n",
        "\n",
        "## Czym jest rezystancja?\n",
        "\n",
        "## 1. Wprowadzenie\n",
        "\n",
        "Rezystancja to miara oporu, jaki materiał stawia przepływowi prądu elektrycznego. Określa, jak trudno elektronowi przedrzeć się przez dany rezystor. Im większa rezystancja, tym trudniejszy przepływ prądu.\n",
        "\n",
        "## 2. Przepływ prądu a opór\n",
        "\n",
        "Przepływ prądu elektrycznego przypomina próbę przejazdu przez centrum miasta w godzinach szczytu. Elektrony przyspieszane przez siłę Coulomba napotykają na liczne zderzenia z atomami materiału, co powoduje ich spowolnienie. Zjawisko to jest podstawą powstawania rezystancji.\n",
        "\n",
        "## 3. Zależności wpływające na rezystancję\n",
        "\n",
        "Rezystancja zależy od kilku czynników:\n",
        "\n",
        "- **Długość przewodnika**: Dłuższy przewodnik ma większą rezystancję.\n",
        "- **Przekrój poprzeczny przewodnika**: Mniejszy przekrój zwiększa rezystancję.\n",
        "- **Rodzaj materiału**: Materiały różnią się zdolnością przewodzenia prądu.\n",
        "- **Temperatura**: Wzrost temperatury zwykle zwiększa rezystancję.\n",
        "\n",
        "Wzór na rezystancję przewodnika:\n",
        "\n",
        "$$\n",
        "R = \\rho \\cdot \\frac{L}{A}\n",
        "$$\n",
        "\n",
        "gdzie:\n",
        "- $R$ – rezystancja (w omach, Ω),\n",
        "- $\\rho$ – rezystywność materiału (w omometrach, Ω·m),\n",
        "- $L$ – długość przewodnika (w metrach, m),\n",
        "- $A$ – pole przekroju poprzecznego przewodnika (w metrach kwadratowych, m²).\n",
        "\n",
        "## 4. Przykład: żarówka\n",
        "\n",
        "W przypadku żarówki, przepływający przez nią prąd powoduje podgrzewanie włókna żarowego. W wyniku tego podgrzewania zmienia się rezystancja włókna, co wpływa na natężenie prądu płynącego przez żarówkę.\n",
        "\n",
        "## 5. Podsumowanie\n",
        "\n",
        "Rezystancja jest kluczowym pojęciem w elektrotechnice, wpływającym na projektowanie obwodów elektrycznych. Zrozumienie jej zasad pozwala na efektywne zarządzanie przepływem prądu i optymalizację działania urządzeń elektrycznych.\n"
      ],
      "metadata": {
        "id": "wQ0x0Te71_tI"
      }
    }
  ]
}