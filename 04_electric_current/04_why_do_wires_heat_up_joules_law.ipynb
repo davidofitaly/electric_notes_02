{
  "nbformat": 4,
  "nbformat_minor": 0,
  "metadata": {
    "colab": {
      "provenance": [],
      "authorship_tag": "ABX9TyOnRz/mRzoH39h9WTWWZsZ+",
      "include_colab_link": true
    },
    "kernelspec": {
      "name": "python3",
      "display_name": "Python 3"
    },
    "language_info": {
      "name": "python"
    }
  },
  "cells": [
    {
      "cell_type": "markdown",
      "metadata": {
        "id": "view-in-github",
        "colab_type": "text"
      },
      "source": [
        "<a href=\"https://colab.research.google.com/github/davidofitaly/electric_notes_02/blob/main/04_electric_current/04_why_do_wires_heat_up_joules_law.ipynb\" target=\"_parent\"><img src=\"https://colab.research.google.com/assets/colab-badge.svg\" alt=\"Open In Colab\"/></a>"
      ]
    },
    {
      "cell_type": "markdown",
      "source": [
        "\n",
        "\n",
        "## Dlaczego przewód się nagrzewa? – Prawo Joule’a\n",
        "\n",
        "## 1. Wprowadzenie\n",
        "\n",
        "Przewody elektryczne nagrzewają się podczas przepływu prądu elektrycznego. Zjawisko to zostało opisane przez Jamesa Prescott Joule’a w XIX wieku i jest znane jako **Prawo Joule’a**.\n",
        "\n",
        "## 2. Mechanizm nagrzewania przewodu\n",
        "\n",
        "Podczas przepływu prądu przez przewodnik, ładunki elektryczne (elektrony) zderzają się z atomami materiału przewodnika. Każde takie zderzenie powoduje przekazanie części energii kinetycznej elektronów do atomów, co skutkuje ich wibracją i wzrostem temperatury przewodnika. To zjawisko jest podstawą nagrzewania się przewodów.\n",
        "\n",
        "## 3. Prawo Joule’a\n",
        "\n",
        "Prawo Joule’a opisuje ilość ciepła wydzielającego się w przewodniku podczas przepływu prądu. Wzór matematyczny przedstawiający to prawo to:\n",
        "\n",
        "$$\n",
        "Q = I^2 \\cdot R \\cdot t\n",
        "$$\n",
        "\n",
        "gdzie:\n",
        "- $Q$ – ilość wydzielonego ciepła (w dżulach, J),\n",
        "- $I$ – natężenie prądu (w amperach, A),\n",
        "- $R$ – rezystancja przewodnika (w omach, Ω),\n",
        "- $t$ – czas przepływu prądu (w sekundach, s).\n",
        "\n",
        "Z powyższego wzoru wynika, że ilość wydzielonego ciepła jest proporcjonalna do kwadratu natężenia prądu, rezystancji przewodnika oraz czasu przepływu prądu.\n",
        "\n",
        "## 4. Oddawanie ciepła do otoczenia\n",
        "\n",
        "Przewód nie nagrzewa się w nieskończoność. W miarę wzrostu temperatury przewodnika, zwiększa się różnica temperatur między przewodnikiem a jego otoczeniem. To powoduje, że przewód zaczyna oddawać ciepło do otoczenia. Gdy tempo wydzielania ciepła równoważy się z tempem oddawania ciepła, przewód osiąga tzw. **temperaturę graniczną** i dalszy wzrost temperatury ustaje.\n",
        "\n",
        "## 5. Podsumowanie\n",
        "\n",
        "- Nagrzewanie się przewodów elektrycznych jest wynikiem zderzeń elektronów z atomami materiału przewodnika.\n",
        "- Prawo Joule’a opisuje ilość wydzielającego się ciepła w przewodniku.\n",
        "- Ilość wydzielonego ciepła zależy od natężenia prądu, rezystancji przewodnika oraz czasu przepływu prądu.\n",
        "- Przewód osiąga temperaturę graniczną, gdy tempo wydzielania ciepła równoważy się z tempem oddawania ciepła do otoczenia.\n"
      ],
      "metadata": {
        "id": "IQuEEPf3EUxG"
      }
    }
  ]
}