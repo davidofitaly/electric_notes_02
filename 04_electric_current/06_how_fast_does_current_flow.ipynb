{
  "nbformat": 4,
  "nbformat_minor": 0,
  "metadata": {
    "colab": {
      "provenance": [],
      "authorship_tag": "ABX9TyM4lO8T3B6uXQFEfXVww0DL",
      "include_colab_link": true
    },
    "kernelspec": {
      "name": "python3",
      "display_name": "Python 3"
    },
    "language_info": {
      "name": "python"
    }
  },
  "cells": [
    {
      "cell_type": "markdown",
      "metadata": {
        "id": "view-in-github",
        "colab_type": "text"
      },
      "source": [
        "<a href=\"https://colab.research.google.com/github/davidofitaly/electric_notes_02/blob/main/04_electric_current/06_how_fast_does_current_flow.ipynb\" target=\"_parent\"><img src=\"https://colab.research.google.com/assets/colab-badge.svg\" alt=\"Open In Colab\"/></a>"
      ]
    },
    {
      "cell_type": "markdown",
      "source": [
        "\n",
        "\n",
        "##Jak szybko płynie prąd?\n",
        "\n",
        "## Co naprawdę płynie tak szybko?\n",
        "\n",
        "Efekty działania prądu, jak zapalająca się żarówka po naciśnięciu włącznika, wydają się natychmiastowe nawet na dużą odległość. To nie elektrony są błyskawiczne – to **energia** przesuwa się niemal z prędkością światła.\n",
        "\n",
        "## Prędkość dryfu elektronów\n",
        "\n",
        "Elektrony, jako nośniki ładunku, poruszają się znacznie wolniej. Dla przykładu, w przewodzie miedzianym o standardowym przekroju 1,5 mm² i prądzie 0,3 A:\n",
        "\n",
        "- koncentracja elektronów to około $8{,}5 \\times 10^{28}\\ \\mathrm{m}^{-3}$,\n",
        "- ładunek elementarny $e = 1{,}6 \\times 10^{-19}\\ \\mathrm{C}$,\n",
        "\n",
        "po podstawieniu do odpowiedniego wzoru, otrzymujemy prędkość około:\n",
        "\n",
        "$$\n",
        "v_d \\approx 0{,}000014686\\ \\mathrm{m/s}\n",
        "$$\n",
        "\n",
        "Co oznacza, że elektron przemieszcza się przeciętnie **5 cm w godzinę**, a pokonanie całego metra trwałoby niemal dobę.\n",
        "\n",
        "## Dlaczego efekt jest natychmiastowy?\n",
        "\n",
        "Przewód jest wypełniony elektronami niczym rura wodą – nie trzeba czekać, aż konkretny elektron dotrze do żarówki. Gdy włączasz prąd, elektrony zaczynają od razu lekko się przesuwać, powodując efekt łańcuchowej reakcji – energia rozpoczyna swoją drogę niemal natychmiast.\n",
        "\n",
        "## Podsumowanie\n",
        "\n",
        "- **Elektrony (dryf)** poruszają się **bardzo powoli** – w rzędzie milimetrów na sekundę (lub centymetrów na godzinę).  \n",
        "- **Energia elektryczna** natomiast przekazywana jest **niemal z prędkością światła**, dzięki reakcji łańcuchowej w przewodniku.  \n",
        "\n",
        "Ta różnica – między fizycznym ruchem elektronów a szybkim przekazem energii – tłumaczy, dlaczego urządzenia reagują błyskawicznie, mimo że prąd elektronowy płynie jak ślimak.\n"
      ],
      "metadata": {
        "id": "v8MY4DW-W5m5"
      }
    }
  ]
}