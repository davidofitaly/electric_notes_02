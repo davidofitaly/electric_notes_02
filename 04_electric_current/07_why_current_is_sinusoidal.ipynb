{
  "nbformat": 4,
  "nbformat_minor": 0,
  "metadata": {
    "colab": {
      "provenance": [],
      "authorship_tag": "ABX9TyOrQvvRj7qqjFno7PWiUmIF",
      "include_colab_link": true
    },
    "kernelspec": {
      "name": "python3",
      "display_name": "Python 3"
    },
    "language_info": {
      "name": "python"
    }
  },
  "cells": [
    {
      "cell_type": "markdown",
      "metadata": {
        "id": "view-in-github",
        "colab_type": "text"
      },
      "source": [
        "<a href=\"https://colab.research.google.com/github/davidofitaly/electric_notes_02/blob/main/04_electric_current/07_why_current_is_sinusoidal.ipynb\" target=\"_parent\"><img src=\"https://colab.research.google.com/assets/colab-badge.svg\" alt=\"Open In Colab\"/></a>"
      ]
    },
    {
      "cell_type": "markdown",
      "source": [
        "# Dlaczego prąd jest sinusoidalny?\n",
        "\n",
        "## 1. Skąd się bierze prąd przemienny?\n",
        "- W ruchu magnesu względem pętli przewodu powstaje prąd — zgodnie z prawem Lenza dąży on do przeciwdziałania zmianie pola magnetycznego.\n",
        "- Gdy magnes zbliża się, prąd płynie w jednym kierunku; gdy oddala — w przeciwnym.  \n",
        "Efekt ten można porównać do \"prawa przekory\".\n",
        "\n",
        "## 2. Generowanie prądu przemiennego na skalę przemysłową\n",
        "- Ruch „tam i z powrotem” magnesu generuje prąd przemienny (AC).  \n",
        "Wykres takiego prądu przypomina sinusoidę.\n",
        "- Zamiast ręcznego machania magnesem, wykorzystano ruch obrotowy – magnes lub przewód obracający się generuje zmienny strumień magnetyczny.  \n",
        "To dało początek generatorom AC.\n",
        "\n",
        "## 3. Dlaczego dokładnie sinus?\n",
        "- Generator z wirującym magnesem (lub uzwojeniem) wytwarza zmienne pole magnetyczne o charakterystycznym kształcie sinusoidalnym.\n",
        "- Zgodnie z prawem Faradaya, magnetyczny strumień sinusoidalny indukuje w uzwojeniu napięcie sinusoidalne:  \n",
        "\n",
        "  $e(t) = -N \\frac{d\\Phi(t)}{dt}$  \n",
        "\n",
        "- Napięcie sinusoidalne powoduje przepływ prądu sinusoidalnego.\n",
        "- Sinusoida jest naturalnym wynikiem fizycznym działania generatorów obrotowych.\n",
        "\n",
        "## 4. Zalety sinusoidy\n",
        "- Sinusoidalny przebieg prądu (i napięcia) ma średnią wartość równą zero i minimalizuje zniekształcenia harmoniczne.\n",
        "- Brak składowej stałej zapobiega podmagnesowaniu rdzenia transformatora i ogranicza straty.\n",
        "- Sieci energetyczne i transformatory są optymalnie zaprojektowane do pracy z sinusoidą.\n",
        "\n",
        "---\n",
        "\n",
        "## Podsumowanie w formie tabeli\n",
        "\n",
        "| Pytanie                  | Odpowiedź                                                                 |\n",
        "|--------------------------|---------------------------------------------------------------------------|\n",
        "| Dlaczego prąd sinusoidalny? | Generator z wirującym polem magnetycznym wytwarza naturalnie sinusoidalne napięcie i prąd. |\n",
        "| Skąd ruch obrotowy?      | Obracający się magnes lub uzwojenie tworzy zmienne pole magnetyczne.     |\n",
        "| Prawo Faradaya i Lenza   | $e(t) = -N \\frac{d\\Phi}{dt}$ — zmiana strumienia wywołuje napięcie, a prąd przeciwdziała zmianom. |\n",
        "| Dlaczego nie inny przebieg? | Sinusoida minimalizuje zniekształcenia i straty, a sieć i transformatory są na nią optymalnie zaprojektowane. |\n"
      ],
      "metadata": {
        "id": "VX5m_8PHiX72"
      }
    }
  ]
}