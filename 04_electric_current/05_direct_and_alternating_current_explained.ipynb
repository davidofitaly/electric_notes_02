{
  "nbformat": 4,
  "nbformat_minor": 0,
  "metadata": {
    "colab": {
      "provenance": [],
      "authorship_tag": "ABX9TyPcdwRAp/A/YQLPKJpjbzb5",
      "include_colab_link": true
    },
    "kernelspec": {
      "name": "python3",
      "display_name": "Python 3"
    },
    "language_info": {
      "name": "python"
    }
  },
  "cells": [
    {
      "cell_type": "markdown",
      "metadata": {
        "id": "view-in-github",
        "colab_type": "text"
      },
      "source": [
        "<a href=\"https://colab.research.google.com/github/davidofitaly/electric_notes_02/blob/main/04_electric_current/05_direct_and_alternating_current_explained.ipynb\" target=\"_parent\"><img src=\"https://colab.research.google.com/assets/colab-badge.svg\" alt=\"Open In Colab\"/></a>"
      ]
    },
    {
      "cell_type": "markdown",
      "source": [
        "\n",
        "\n",
        "##Prąd stały, zmienny i przemienny w prostych słowach\n",
        "\n",
        "## Czym jest kształt prądu?\n",
        "\n",
        "Prąd zawsze „naśladuje” napięcie – bez napięcia nie ma prądu. Gdy napięcie wzrasta dwukrotnie, prąd zwykle również się podwaja.\n",
        "\n",
        "## Prąd stały (DC)\n",
        "\n",
        "Źródła takie jak baterie, zasilacze czy ładowarki generują **stałe napięcie**, czyli wartości, które nie zmieniają się w czasie. W wyniku tego płynie **prąd stały** – ładunki poruszają się z regularną, stabilną prędkością, co skutkuje np. stałym światłem żarówki.\n",
        "\n",
        "### Kluczowe:\n",
        "- Napięcie niezmieniające się w czasie.\n",
        "- Prąd płynie w jednym kierunku ze stałą intensywnością.\n",
        "- Proces rozładowania baterii może delikatnie zmieniać napięcie, ale ogólnie jest traktowane jako źródło prądu stałego.\n",
        "\n",
        "## Gdy prąd się zmienia (zmienny)\n",
        "\n",
        "Prąd stały można przekształcić w **zmienny**, np. przez odwracanie biegunowości baterii. Wtedy napięcie i prąd zmieniają znak (dodatnie → ujemne), co daje przebieg prostokątny.\n",
        "\n",
        "### Prąd zmienny (AC)\n",
        "\n",
        "*Prąd zmienny* to taki, który **zmienia wartość w czasie** – rośnie, maleje, może mieć różne kształty (sinus, trójkąt, piła).  \n",
        "Wtedy, gdy przebieg ten okresowo zmienia kierunek (np. raz dodatni, raz ujemny), nazywamy go **prądem przemiennym**.\n",
        "\n",
        "### Charakterystyka prądu przemiennego:\n",
        "- Przepływa najpierw w jednym kierunku, potem w drugim.\n",
        "- Może mieć bardzo „gładki” przebieg sinusoidalny (typowy dla sieci domowej).\n",
        "- Jest **okresowy** – powtarza ten sam wzór w czasie.\n",
        "\n",
        "## Przykłady przebiegów prądu\n",
        "\n",
        "- **Prąd zmienny, ale nie przemienny**: zmienia się, ale nie przekracza osi zerowej (nie zmienia kierunku).\n",
        "- **Prąd przemienny**: zmienia zarówno wartość, jak i kierunek (przechodzi przez zero).\n",
        "\n",
        "## Dlaczego to się liczy?\n",
        "\n",
        "Rozpoznawanie kształtu prądu i rozróżnienie, czy jest on przemienny, czy nie, jest istotne w takich dziedzinach jak:\n",
        "- audio,\n",
        "- układy pomiarowe,\n",
        "- zasilacze,\n",
        "- generatory czy transformatory.\n",
        "\n",
        "Znajomość tych podstaw jest niezbędna do projektowania i zrozumienia wielu technologii.\n"
      ],
      "metadata": {
        "id": "KK1D6tRlS27O"
      }
    }
  ]
}