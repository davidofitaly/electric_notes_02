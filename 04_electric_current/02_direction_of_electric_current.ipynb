{
  "nbformat": 4,
  "nbformat_minor": 0,
  "metadata": {
    "colab": {
      "provenance": [],
      "authorship_tag": "ABX9TyM/R6qbTBMGrIIN0Ae3StoF",
      "include_colab_link": true
    },
    "kernelspec": {
      "name": "python3",
      "display_name": "Python 3"
    },
    "language_info": {
      "name": "python"
    }
  },
  "cells": [
    {
      "cell_type": "markdown",
      "metadata": {
        "id": "view-in-github",
        "colab_type": "text"
      },
      "source": [
        "<a href=\"https://colab.research.google.com/github/davidofitaly/electric_notes_02/blob/main/04_electric_current/02_direction_of_electric_current.ipynb\" target=\"_parent\"><img src=\"https://colab.research.google.com/assets/colab-badge.svg\" alt=\"Open In Colab\"/></a>"
      ]
    },
    {
      "cell_type": "markdown",
      "source": [
        "\n",
        "\n",
        "## Konwencja kierunku prądu\n",
        "\n",
        "W XVIII wieku, gdy badano elektryczność, nie znano jeszcze elektronów. Naukowcy musieli ustalić umowę, jak oznaczać kierunek przepływu ładunku. Przyjęto, że **prąd płynie od potencjału wyższego (plus) do niższego (minus)**.  \n",
        "Ta konwencja jest używana w książkach, schematach elektrycznych i wszędzie tam, gdzie opisuje się prąd w obwodach. Jest to standard historyczny, który ułatwia komunikację.\n",
        "\n",
        "## Rzeczywisty ruch elektronów\n",
        "\n",
        "Dopiero gdy poznano naturę elektronów, okazało się, że to one są nośnikami ładunku w przewodnikach metalicznych. Elektrony mają ładunek ujemny, więc poruszają się od bieguna ujemnego (minusa) do dodatniego (plusa).  \n",
        "Czyli w rzeczywistości fizycznie przepływają w przeciwnym kierunku do konwencji.\n",
        "\n",
        "## Po co utrzymywać konwencję?\n",
        "\n",
        "Zmiana konwencji wymagałaby przepisywania całej elektrotechniki od podstaw. Dzięki utrzymaniu umownego kierunku prądu, prąd płynie zawsze w tę samą stronę, a kolejne odkrycia nie wywrócą nagle całej nauki do góry nogami.  \n",
        "To rozwiązanie pozwala na spójność w nauce i praktyce.\n",
        "\n",
        "## Podsumowanie\n",
        "\n",
        "- **Konwencja prądu**: od plusa do minusa – historyczna, przyjęta w czasach, gdy nie znano elektronów.  \n",
        "- **Ruch elektronów**: od minusa do plusa – zgodnie z ich ujemnym ładunkiem.  \n",
        "- **Dlaczego nie zmieniamy konwencji**: Bo działa w praktyce, jest uniwersalna i nie wymaga zmiany istniejących wzorów ani schematów.\n",
        "\n",
        "Dzięki tej konwencji prąd elektryczny jest zrozumiały i spójny w różnych dziedzinach nauki i techniki.\n"
      ],
      "metadata": {
        "id": "MH-wL6jpURvX"
      }
    }
  ]
}