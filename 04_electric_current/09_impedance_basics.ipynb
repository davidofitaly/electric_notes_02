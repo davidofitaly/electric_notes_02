{
  "nbformat": 4,
  "nbformat_minor": 0,
  "metadata": {
    "colab": {
      "provenance": [],
      "authorship_tag": "ABX9TyM9Cs9IgYiuA6eJTWtc+HKG",
      "include_colab_link": true
    },
    "kernelspec": {
      "name": "python3",
      "display_name": "Python 3"
    },
    "language_info": {
      "name": "python"
    }
  },
  "cells": [
    {
      "cell_type": "markdown",
      "metadata": {
        "id": "view-in-github",
        "colab_type": "text"
      },
      "source": [
        "<a href=\"https://colab.research.google.com/github/davidofitaly/electric_notes_02/blob/main/04_electric_current/09_impedance_basics.ipynb\" target=\"_parent\"><img src=\"https://colab.research.google.com/assets/colab-badge.svg\" alt=\"Open In Colab\"/></a>"
      ]
    },
    {
      "cell_type": "markdown",
      "source": [
        "# Co to jest impedancja?\n",
        "\n",
        "## 1. Wprowadzenie\n",
        "- **Impedancja** to całkowity opór w obwodzie prądu przemiennego.\n",
        "- Termin pochodzi od angielskiego słowa *impede*, co oznacza „utrudniać” lub „wstrzymywać”.\n",
        "- Symbol impedancji: **Z**.\n",
        "\n",
        "## 2. Historia\n",
        "- Pojęcie impedancji wprowadził angielski fizyk **Oliver Heaviside** w 1892 roku.\n",
        "- Heaviside połączył rezystancję i reaktancję w jedną wielkość, umożliwiając ich wspólne uwzględnienie w obliczeniach.\n",
        "\n",
        "## 3. Składniki impedancji\n",
        "Impedancja jest liczbą zespoloną, składającą się z:\n",
        "- **Rezystancji (R)** – opór stały, nie zależny od częstotliwości.\n",
        "- **Reaktancji (X)** – opór zmienny, zależny od częstotliwości sygnału.\n",
        "\n",
        "Reaktancja dzieli się na:\n",
        "- **Reaktancję indukcyjną (Xₗ)** – wynikającą z cewek, zwiększającą się z częstotliwością.\n",
        "- **Reaktancję pojemnościową (Xᵢ)** – wynikającą z kondensatorów, malejącą z częstotliwością.\n",
        "\n",
        "## 4. Wzór na impedancję\n",
        "Impedancja wyraża się wzorem:\n",
        "$$\n",
        "Z = R + jX\n",
        "$$\n",
        "gdzie:\n",
        "- $R$ – rezystancja,\n",
        "- $X$ – reaktancja,\n",
        "- $j$ – jednostka urojona ($j^2 = -1$).\n",
        "\n",
        "## 5. Moduł i faza impedancji\n",
        "- **Moduł impedancji**: $|Z| = \\sqrt{R^2 + X^2}$ – określa całkowity opór w obwodzie.\n",
        "- **Kąt fazowy**: $\\varphi = \\arctan\\left(\\frac{X}{R}\\right)$ – określa przesunięcie fazowe między napięciem a prądem.\n",
        "\n",
        "## 6. Zastosowanie impedancji\n",
        "- Impedancja pozwala na:\n",
        "  - Obliczanie mocy w obwodach prądu przemiennego.\n",
        "  - Analizowanie zachowania obwodów w zależności od częstotliwości sygnału.\n",
        "  - Projektowanie filtrów, wzmacniaczy i innych urządzeń elektronicznych.\n",
        "\n",
        "## 7. Podsumowanie\n",
        "- Impedancja jest kluczowym pojęciem w analizie obwodów prądu przemiennego.\n",
        "- Łączy w sobie efekty rezystancji i reaktancji, umożliwiając kompleksową ocenę zachowania obwodu.\n",
        "- Zrozumienie impedancji jest niezbędne do projektowania i analizy układów elektronicznych.\n",
        "\n",
        "\n"
      ],
      "metadata": {
        "id": "ptGoY1-Mndf5"
      }
    }
  ]
}