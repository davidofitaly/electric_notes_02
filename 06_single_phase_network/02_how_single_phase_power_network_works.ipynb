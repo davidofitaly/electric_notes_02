{
  "nbformat": 4,
  "nbformat_minor": 0,
  "metadata": {
    "colab": {
      "provenance": [],
      "authorship_tag": "ABX9TyMLQIIAiVScdJ2TH9KxUW+7",
      "include_colab_link": true
    },
    "kernelspec": {
      "name": "python3",
      "display_name": "Python 3"
    },
    "language_info": {
      "name": "python"
    }
  },
  "cells": [
    {
      "cell_type": "markdown",
      "metadata": {
        "id": "view-in-github",
        "colab_type": "text"
      },
      "source": [
        "<a href=\"https://colab.research.google.com/github/davidofitaly/electric_notes_02/blob/main/06_single_phase_network/02_how_single_phase_power_network_works.ipynb\" target=\"_parent\"><img src=\"https://colab.research.google.com/assets/colab-badge.svg\" alt=\"Open In Colab\"/></a>"
      ]
    },
    {
      "cell_type": "markdown",
      "source": [
        "##Jak działa sieć jednofazowa?\n",
        "\n",
        "## Ogólna idea\n",
        "\n",
        "Sieć jednofazowa to najprostszy układ prądu przemiennego wykorzystywany w dostarczaniu energii na potrzeby domów i małych odbiorców. Dzięki zrozumieniu jej działania łatwiej potem przejść do bardziej skomplikowanych układów, jak sieci trójfazowe.\n",
        "\n",
        "## Kluczowe elementy i droga energii\n",
        "\n",
        "- Energia elektryczna wytwarzana jest w elektrowni przez generator, który produkuje prąd przemienny (AC).  \n",
        "- Prąd jest przesyłany przez linie wysokiego napięcia do stacji transformatorowych, gdzie napięcie jest podnoszone lub obniżane w zależności od etapu przesyłu.  \n",
        "- Sieć jednofazowa dla odbiorców końcowych oznacza, że energia trafia do domu poprzez **transformator końcowy**, który obniża napięcie do wartości użytkowej (w Polsce ~230 V).  \n",
        "\n",
        "## Co oznacza „jednofazowa”\n",
        "\n",
        "- W obwodzie jednofazowym używa się **jednej fazy** i przewodu neutralnego (oraz przewodu ochronnego, jeśli występuje).  \n",
        "- Można porównać to do uproszczonego obwodu prądu stałego, lecz źródłem jest napięcie przemienne.  \n",
        "- W sieci jednofazowej mamy dwa przewody: **przewód fazowy (L)** i **przewód neutralny (N)**.  \n",
        "\n",
        "## Przewód fazowy i neutralny\n",
        "\n",
        "- **Przewód fazowy (L)** – przewód, przez który prąd „wchodzi” do instalacji użytkownika. Ma zmienne napięcie względem neutralnego. Kolorystycznie w Polsce jest brązowy.  \n",
        "- **Przewód neutralny (N)** – pełni rolę powrotu prądu do źródła, często uziemiony na transformatorze końcowym. W Polsce kolor jasnoniebieski.  \n",
        "- Gdy przewód neutralny pełni też funkcję ochronną (czyli „zerowego” i ochronnego), może być kolorowany też jako żółto-zielony.\n",
        "\n",
        "## Transformator końcowy\n",
        "\n",
        "- To transformator, który jest ostatnim stopniem w sieci przed domem. Obniża napięcie z poziomu sieci przesyłowej/rozliczeniowej (np. kilku lub kilkunastu kV) do napięcia sieci domowej (~230 V).  \n",
        "- Właśnie dzięki niemu przewód neutralny może być uziemiony, co stabilizuje potencjał całej instalacji domowej i poprawia bezpieczeństwo.  \n",
        "\n",
        "## Fizyczne aspekty sieci jednofazowej\n",
        "\n",
        "- Generator w elektrowni wytwarza napięcie przemienne, co oznacza, że kierunek przepływu elektronów w przewodzie fazowym zmienia się cyklicznie (np. sinusoidalnie).  \n",
        "- Przewód neutralny jest uziemiony, więc jego potencjał jest stabilny (często przyjmujemy jako 0 V), względem którego faza zmienia swój potencjał od dodatniego do ujemnego w cyklu AC.  \n",
        "- Mimo że prąd „bujają się” tam i z powrotem, to energia jest przekazywana przez pole elektromagnetyczne i przemienne zmiany napięcia/prądu.\n",
        "\n",
        "## Dlaczego używa się sieci jednofazowej\n",
        "\n",
        "- W sytuacjach, kiedy odbiorcy mają niższe zapotrzebowanie na moc – domy, mieszkania, małe budynki – sieć jednofazowa jest prostsza i tańsza w instalacji.  \n",
        "- Mniejsze wymagania co do przewodów, transformatorów, izolacji.  \n",
        "- Urządzenia domowe standardowo projektowane pod napięcie ~230 V pracują dobrze w tej sieci.\n",
        "\n",
        "## Wyzwania i uwagi\n",
        "\n",
        "- Przewód neutralny musi być solidny i dobrze uziemiony, bo nieprawidłowe podłączenie/izolacja mogą prowadzić do zagrożeń.  \n",
        "- Wyższe napięcie efektywne (np. 230 V) wiąże się z potrzebą odpowiedniej izolacji i zabezpieczeń w instalacjach.  \n",
        "- Pomieszanie przewodów (fazy i neutralnego) może być niebezpieczne, zwłaszcza przy konserwacji czy naprawie.\n",
        "\n",
        "## Podsumowanie\n",
        "\n",
        "- Sieć jednofazowa to obwód AC z jedną fazą i przewodem neutralnym (czasem z przewodem ochronnym).  \n",
        "- Energia przechodzi drogą: elektrownia → transformatory → linie przesyłowe → transformator końcowy → instalacja domowa.  \n",
        "- Transformator końcowy obniża napięcie do ~230 V, a przewód neutralny jest uziemiony, co stabilizuje potencjał.  \n",
        "- Sieć jednofazowa jest prostsza, bardziej ekonomiczna dla mniejszych odbiorców, ale wymaga staranności w instalacji i zabezpieczeniu.\n",
        "\n"
      ],
      "metadata": {
        "id": "LI7e1zqs3V1u"
      }
    }
  ]
}