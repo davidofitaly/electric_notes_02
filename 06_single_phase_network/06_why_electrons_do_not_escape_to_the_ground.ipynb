{
  "nbformat": 4,
  "nbformat_minor": 0,
  "metadata": {
    "colab": {
      "provenance": [],
      "authorship_tag": "ABX9TyMJqMqp1fK5KdbTsFrdG1xl",
      "include_colab_link": true
    },
    "kernelspec": {
      "name": "python3",
      "display_name": "Python 3"
    },
    "language_info": {
      "name": "python"
    }
  },
  "cells": [
    {
      "cell_type": "markdown",
      "metadata": {
        "id": "view-in-github",
        "colab_type": "text"
      },
      "source": [
        "<a href=\"https://colab.research.google.com/github/davidofitaly/electric_notes_02/blob/main/06_single_phase_network/06_why_electrons_do_not_escape_to_the_ground.ipynb\" target=\"_parent\"><img src=\"https://colab.research.google.com/assets/colab-badge.svg\" alt=\"Open In Colab\"/></a>"
      ]
    },
    {
      "cell_type": "markdown",
      "source": [
        "# Dlaczego elektrony nie uciekają do ziemi?\n",
        "\n",
        "## Elektrony w metalach\n",
        "\n",
        "- Elektrony w przewodnikach, takich jak miedź, są związane z atomami w sieci krystalicznej.\n",
        "- Choć niektóre elektrony są swobodne i uczestniczą w przewodzeniu prądu, to:\n",
        "  - Elektron opuszczający atom pozostawia za sobą dodatnio naładowany jon.\n",
        "  - Powstałe siły elektrostatyczne przyciągają elektron z powrotem, co uniemożliwia jego \"ucieczkę\" do ziemi.\n",
        "\n",
        "## Rola uziemienia\n",
        "\n",
        "- Uziemienie w instalacjach elektrycznych pełni przede wszystkim funkcję ochronną.\n",
        "- Przewód neutralny (N) połączony z ziemią zapewnia bezpieczny potencjał odniesienia.\n",
        "- Jednak w standardowych warunkach prąd **nie płynie do ziemi**, ponieważ:\n",
        "  - Obwód elektryczny musi być zamknięty.\n",
        "  - Elektrony nie \"szukają\" ziemi, jeśli obwód ma normalne połączenia.\n",
        "\n",
        "## Przepływ prądu\n",
        "\n",
        "- Prąd elektryczny płynie wtedy, gdy istnieje różnica potencjałów i zamknięty obwód.\n",
        "- W typowych instalacjach domowych:\n",
        "  - Faza (L) jest źródłem potencjału.\n",
        "  - Neutralny (N) zamyka obwód i jest uziemiony.\n",
        "  - Elektrony przemieszczają się między L a N, a nie do ziemi.\n",
        "- Przykład: Podłączając żarówkę do sieci:\n",
        "  - Prąd płynie przez żarówkę i powraca przewodem neutralnym.\n",
        "  - Ziemia służy jako element bezpieczeństwa, np. w instalacjach z wyłącznikiem różnicowoprądowym.\n",
        "\n",
        "## Błędne analogie\n",
        "\n",
        "- Często porównuje się przepływ prądu do przepływu wody.\n",
        "- Jest to jednak uproszczenie, które może wprowadzać w błąd:\n",
        "  - Elektrony w przewodnikach nie mają swobody poruszania się jak woda w rzece.\n",
        "  - Ich ruch jest ograniczony siłami elektrostatycznymi w materiale.\n",
        "\n",
        "## Wnioski\n",
        "\n",
        "- Elektrony nie \"uciekają\" do ziemi, ponieważ:\n",
        "  - Są związane z atomami przewodnika.\n",
        "  - Obwód elektryczny musi być zamknięty, aby prąd płynął.\n",
        "  - Uziemienie służy jako bezpieczne odniesienie potencjału, a nie jako droga dla elektronów.\n",
        "- Zrozumienie tego mechanizmu jest kluczowe dla projektowania bezpiecznych instalacji elektrycznych.\n"
      ],
      "metadata": {
        "id": "wzfJQAC2nKnw"
      }
    }
  ]
}