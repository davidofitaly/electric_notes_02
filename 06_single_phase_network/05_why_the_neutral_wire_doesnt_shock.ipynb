{
  "nbformat": 4,
  "nbformat_minor": 0,
  "metadata": {
    "colab": {
      "provenance": [],
      "authorship_tag": "ABX9TyPVDGLb3yXraECV0tr6QIKV",
      "include_colab_link": true
    },
    "kernelspec": {
      "name": "python3",
      "display_name": "Python 3"
    },
    "language_info": {
      "name": "python"
    }
  },
  "cells": [
    {
      "cell_type": "markdown",
      "metadata": {
        "id": "view-in-github",
        "colab_type": "text"
      },
      "source": [
        "<a href=\"https://colab.research.google.com/github/davidofitaly/electric_notes_02/blob/main/06_single_phase_network/05_why_the_neutral_wire_doesnt_shock.ipynb\" target=\"_parent\"><img src=\"https://colab.research.google.com/assets/colab-badge.svg\" alt=\"Open In Colab\"/></a>"
      ]
    },
    {
      "cell_type": "markdown",
      "source": [
        "##Dlaczego N’ka nie kopie? (i czemu nie warto w to wierzyć)\n",
        "\n",
        "## 1. Rola przewodu neutralnego (N)\n",
        "\n",
        "- Przewód N to przewód neutralny w sieci jednofazowej, **połączony z punktem neutralnym transformatora** i uziemiony.  \n",
        "- „Neutralny” nie oznacza, że jest bezpieczny do dotyku – jest neutralny względem sieci, a nie względem ciebie.  \n",
        "- Ponieważ jest połączony z ziemią, jego potencjał jest bliski 0 V względem ziemi, więc dotykając go, nie zamykasz obwodu → prąd zwykle nie płynie.\n",
        "\n",
        "## 2. Dlaczego przewód fazowy poraża, a neutralny zwykle nie\n",
        "\n",
        "- **Faza (L):** różnica potencjałów względem ziemi ~230 V → jeśli dotkniesz, obwód się zamyka i prąd płynie.  \n",
        "- **Neutralny (N):** potencjał bliski ziemi → dotykając go, nie ma dużej różnicy potencjałów względem twojego ciała → prąd zwykle nie płynie.  \n",
        "- Jeśli instalacja jest uszkodzona, N może mieć potencjał fazowy → wtedy staje się niebezpieczny.\n",
        "\n",
        "## 3. Uziemienie\n",
        "\n",
        "- **Cel:** chronić ciebie i zapewnić prawidłową pracę sieci.  \n",
        "- Faza nie jest uziemiona, bo prąd płynący przez ziemię byłby niekontrolowany.  \n",
        "- N jest uziemiony, więc teoretycznie nie powinien być groźny.\n",
        "\n",
        "## 4. Obwód i twoje ciało\n",
        "\n",
        "- Aby prąd mógł cię porazić:\n",
        "  1. **Obwód musi być zamknięty.**  \n",
        "  2. **Musisz dotykać różne potencjały** jednocześnie.  \n",
        "- Dotykając N w prawidłowej sieci:  \n",
        "  - Obwód nie jest zamknięty.  \n",
        "  - Prąd nie płynie → bezpiecznie.  \n",
        "- Dotykając L:  \n",
        "  - Obwód zamyka się przez twoje ciało → prąd płynie → ryzyko porażenia.\n",
        "\n",
        "## 5. Praktyka vs teoria\n",
        "\n",
        "- W praktyce przewody N mogą zawieść:  \n",
        "  - Przerwany N → przewód może mieć napięcie fazowe.  \n",
        "  - Wtedy dotykając go, prąd może popłynąć przez ciebie → bardzo niebezpiecznie.  \n",
        "- **RCD (wyłącznik różnicowoprądowy):** odłącza prąd, jeśli płynie upływ → chroni cię przed porażeniem, ale nie eliminuje różnicy napięć.\n",
        "\n",
        "## 6. Przykłady w instalacji\n",
        "\n",
        "- Dotykając N za odbiornikiem (np. po żarówce):  \n",
        "  - Obwód normalnie zamknięty → prąd nie płynie przez ciebie.  \n",
        "- Przerwany N:  \n",
        "  - Dotykając neutralnego → prąd płynie przez ciebie → niebezpiecznie.  \n",
        "- PE (przewód ochronny):  \n",
        "  - W TN-C-S połączony z N w rozdzielnicy → chroni cię przed porażeniem przy zwarciu do obudowy.  \n",
        "  - W TT wymaga RCD, bo nie jest połączony z N transformatora.\n",
        "\n",
        "## 7. Kluczowe wnioski\n",
        "\n",
        "- „Neutralny nie poraża” tylko dlatego, że jest uziemiony.  \n",
        "- Niebezpieczeństwo pojawia się przy:  \n",
        "  - Uszkodzonym przewodzie N.  \n",
        "  - Awarii obwodu.  \n",
        "- **Zasady bezpieczeństwa:**  \n",
        "  1. Nigdy nie dotykaj przewodów pod napięciem.  \n",
        "  2. Zakładaj, że każdy przewód może być niebezpieczny.  \n",
        "  3. Upewnij się, że instalacja jest prawidłowo uziemiona i działa RCD.\n"
      ],
      "metadata": {
        "id": "Le439O0aleux"
      }
    }
  ]
}