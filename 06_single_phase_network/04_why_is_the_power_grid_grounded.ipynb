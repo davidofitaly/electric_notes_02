{
  "nbformat": 4,
  "nbformat_minor": 0,
  "metadata": {
    "colab": {
      "provenance": [],
      "authorship_tag": "ABX9TyPRtEnvEJ8TW9M3qm6pK6hK",
      "include_colab_link": true
    },
    "kernelspec": {
      "name": "python3",
      "display_name": "Python 3"
    },
    "language_info": {
      "name": "python"
    }
  },
  "cells": [
    {
      "cell_type": "markdown",
      "metadata": {
        "id": "view-in-github",
        "colab_type": "text"
      },
      "source": [
        "<a href=\"https://colab.research.google.com/github/davidofitaly/electric_notes_02/blob/main/06_single_phase_network/04_why_is_the_power_grid_grounded.ipynb\" target=\"_parent\"><img src=\"https://colab.research.google.com/assets/colab-badge.svg\" alt=\"Open In Colab\"/></a>"
      ]
    },
    {
      "cell_type": "markdown",
      "source": [
        "\n",
        "\n",
        "## Dlaczego sieć jest uziemiona? (i dlaczego kiedyś nie była)\n",
        "\n",
        "## Wprowadzenie\n",
        "- Sieć elektroenergetyczna wymaga: **źródła, odbiornika i zamkniętej pętli**.\n",
        "- Wczesne sieci DC Edisona (1880) korzystały z **jednego przewodu + powrotu przez ziemię**.\n",
        "  - Problem: porażenia → odrzucono ziemię jako przewód powrotny.\n",
        "- Później: sieci AC, trzyfazowe przewody, bez uziemienia przez pierwsze ~30 lat.\n",
        "  - Napięcia przesyłowe rosły: 50 kV (1905), 110 kV (1912).\n",
        "- W 1913 w USA wprowadzono **uziemienie robocze** (NEC) → standard w większości krajów.\n",
        "\n",
        "## Dlaczego wprowadzono uziemienie\n",
        "1. Początkowo mało odbiorców → awarie i porażenia rzadkie.\n",
        "2. Rozwój miast i przemysłu:\n",
        "   - więcej awarii i porażeń,\n",
        "   - wzrost kosztów odszkodowań.\n",
        "\n",
        "**Główne problemy sieci nieuziemionych:**  \n",
        "- Zwarcia do ziemi  \n",
        "- Przepięcia  \n",
        "- Ładunki elektrostatyczne\n",
        "\n",
        "## Problem 1 – zwarcie do ziemi\n",
        "- Sieć nieuziemiona: brak wymuszonego przepływu prądu do ziemi.\n",
        "- **Prąd pojemnościowy** między przewodami fazowymi a ziemią.\n",
        "  - AC: ładowanie i rozładowanie → prąd kilka–kilkadziesiąt A.\n",
        "- Skutki: nagrzewanie słupów, awarie, wypadki.\n",
        "\n",
        "## Problem 2 – przepięcia\n",
        "- Zwarcia lub pioruny → nagły wzrost napięcia.\n",
        "- W sieci nieuziemionej energia nie ma drogi do ziemi → uszkodzenie izolatorów, transformatorów, urządzeń.\n",
        "\n",
        "## Problem 3 – ładunki elektrostatyczne\n",
        "- Nagromadzenie ładunku na liniach → wzrost potencjału względem ziemi.\n",
        "- Może przekroczyć wytrzymałość izolacji → ryzyko porażenia lub pożaru.\n",
        "\n",
        "## Jak uziemienie rozwiązuje problemy\n",
        "1. **Zwarcia do ziemi:**  \n",
        "   - Połączenie z ziemią w stacjach → łatwa droga powrotu prądu.\n",
        "   - Skutkuje przepaleniem bezpiecznika, chroniąc słupy i transformator.\n",
        "2. **Przepięcia i ładunki statyczne:**  \n",
        "   - Energia odprowadzana do ziemi → mniejsze ryzyko przepięć i porażeń.\n",
        "   - Nowoczesne sieci mają przewód ochronny na słupach.\n",
        "\n",
        "## Sieci TN, TT i IT\n",
        "- Popularne rozwiązania w szpitalach, kopalniach i innych miejscach wysokiego ryzyka.\n",
        "\n",
        "## Ciekawostki\n",
        "- **T** – *terre* (ziemia).  \n",
        "- Elektrony płyną zawsze do źródła, niekoniecznie te same cząstki wracają.\n",
        "- Sieci nieuziemione nadal używane w specjalnych miejscach (szpitale, kopalnie).\n",
        "\n",
        "## Praktyczne uwagi\n",
        "- Trójfazowa z neutralnym: prąd w N płynie tylko przy **obciążeniu niezrównoważonym**.\n",
        "- Symetryczne obciążenie → prąd w N ≈ 0 A.\n",
        "- Wtyczki 4-przewodowe (3 fazy + PE) → tylko przy symetrycznych obciążeniach; nie podłączać urządzeń 5-przewodowych.\n"
      ],
      "metadata": {
        "id": "tHG6z6_ujtZl"
      }
    }
  ]
}