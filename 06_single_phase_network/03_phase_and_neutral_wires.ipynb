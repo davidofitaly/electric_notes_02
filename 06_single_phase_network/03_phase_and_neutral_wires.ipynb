{
  "nbformat": 4,
  "nbformat_minor": 0,
  "metadata": {
    "colab": {
      "provenance": [],
      "authorship_tag": "ABX9TyMj+De/tYA6Xp9giL7xeSGC",
      "include_colab_link": true
    },
    "kernelspec": {
      "name": "python3",
      "display_name": "Python 3"
    },
    "language_info": {
      "name": "python"
    }
  },
  "cells": [
    {
      "cell_type": "markdown",
      "metadata": {
        "id": "view-in-github",
        "colab_type": "text"
      },
      "source": [
        "<a href=\"https://colab.research.google.com/github/davidofitaly/electric_notes_02/blob/main/06_single_phase_network/03_phase_and_neutral_wires.ipynb\" target=\"_parent\"><img src=\"https://colab.research.google.com/assets/colab-badge.svg\" alt=\"Open In Colab\"/></a>"
      ]
    },
    {
      "cell_type": "markdown",
      "source": [
        "\n",
        "## Faza i N’ka – czy do tanga trzeba dwojga?\n",
        "\n",
        "## Podstawy\n",
        "\n",
        "- W **sieci jednofazowej** do prawidłowego przepływu prądu potrzebne są dwa przewody:  \n",
        "  - **Fazowy (L)** – dostarcza prąd do odbiornika.  \n",
        "  - **Neutralny (N)** – pełni rolę powrotu prądu do źródła, często uziemiony.  \n",
        "\n",
        "- Prąd w obwodzie płynie tylko wtedy, gdy obwód jest **zamknięty** – czyli od fazy przez odbiornik do neutralnego.  \n",
        "\n",
        "## Przewód neutralny\n",
        "\n",
        "- Jest integralną częścią obwodu jednofazowego.  \n",
        "- W normalnych warunkach przewód neutralny prowadzi **prąd równy prądowi płynącemu w przewodzie fazowym**, ale o przeciwnym kierunku.  \n",
        "- Uziemienie przewodu neutralnego stabilizuje napięcie i zwiększa bezpieczeństwo.  \n",
        "\n",
        "## Alternatywne systemy – SWER\n",
        "\n",
        "- **SWER (Single-Wire Earth Return)** – system jednoprzewodowy, wykorzystujący **ziemię jako przewód powrotny**.  \n",
        "- Pozwala na przesył energii elektrycznej przy użyciu tylko jednego przewodu fazowego.  \n",
        "- Stosowany w miejscach o **niskiej gęstości zaludnienia** (np. Nowa Zelandia, Australia).  \n",
        "\n",
        "## Podsumowanie\n",
        "\n",
        "- W klasycznej instalacji jednofazowej nie da się obejść przewodu neutralnego – oba przewody są niezbędne do prawidłowego przepływu prądu.  \n",
        "- Systemy alternatywne (SWER) pokazują, że w specjalnych przypadkach można ograniczyć liczbę przewodów, wykorzystując ziemię jako powrót prądu.  \n"
      ],
      "metadata": {
        "id": "vCVFmMYchJdH"
      }
    }
  ]
}