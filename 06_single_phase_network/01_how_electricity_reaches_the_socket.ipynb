{
  "nbformat": 4,
  "nbformat_minor": 0,
  "metadata": {
    "colab": {
      "provenance": [],
      "authorship_tag": "ABX9TyMO2FwR8+k8HpNlqhrxem3Y",
      "include_colab_link": true
    },
    "kernelspec": {
      "name": "python3",
      "display_name": "Python 3"
    },
    "language_info": {
      "name": "python"
    }
  },
  "cells": [
    {
      "cell_type": "markdown",
      "metadata": {
        "id": "view-in-github",
        "colab_type": "text"
      },
      "source": [
        "<a href=\"https://colab.research.google.com/github/davidofitaly/electric_notes_02/blob/main/06_single_phase_network/01_how_electricity_reaches_the_socket.ipynb\" target=\"_parent\"><img src=\"https://colab.research.google.com/assets/colab-badge.svg\" alt=\"Open In Colab\"/></a>"
      ]
    },
    {
      "cell_type": "markdown",
      "source": [
        "\n",
        "\n",
        "## Jak prąd dociera do gniazdka?\n",
        "\n",
        "## Ogólna idea\n",
        "\n",
        "Prąd trafia do gniazdka dzięki złożonej infrastrukturze energetycznej, która obejmuje:\n",
        "\n",
        "- wytwarzanie energii w elektrowniach,  \n",
        "- przesył wysokiego napięcia na duże odległości,  \n",
        "- transformację napięcia,  \n",
        "- lokalne sieci dystrybucyjne,  \n",
        "- instalację przewodów wewnątrz budynków.\n",
        "\n",
        "## Kluczowe etapy\n",
        "\n",
        "1. **Produkcja energii**  \n",
        "   Energia elektryczna powstaje w elektrowniach. Różne źródła to np.:\n",
        "\n",
        "   - spalanie paliw (węgiel, gaz),  \n",
        "   - elektrownie wodne,  \n",
        "   - elektrownie wiatrowe,  \n",
        "   - źródła odnawialne (np. fotowoltaika)  \n",
        "\n",
        "   W elektrowniach energia mechaniczna napędza generatory, które wytwarzają prąd.\n",
        "\n",
        "2. **Transformacja napięcia do przesyłu**  \n",
        "   Po wytworzeniu prądu napięcie jest podnoszone przez transformatory do bardzo wysokiego poziomu (np. dziesiątki tysięcy woltów), aby zredukować straty przesyłowe. Im wyższe napięcie przy tej samej mocy, tym mniejszy prąd musi płynąć, co ogranicza straty w przewodach.\n",
        "\n",
        "3. **Przesył wysokiego napięcia**  \n",
        "   Prąd przesyłany jest liniami wysokiego napięcia (napowietrznymi lub kablowymi) na duże odległości pomiędzy elektrowniami, stacjami redukcyjnymi, a obszarami konsumpcji.\n",
        "\n",
        "4. **Obniżenie napięcia w stacjach transformatorowych**  \n",
        "   Gdy energia dotrze bliżej do odbiorców (np. miast, dzielnic), napięcie jest obniżane w stacjach transformatorowych do standardowego poziomu używanego w budynkach (np. 230 V w Polsce).\n",
        "\n",
        "5. **Dystrybucja lokalna**  \n",
        "   Z transformatorów lokalnych energia jest dostarczana siecią dystrybucyjną do budynków przez przewody przyłączeniowe i instalacje wewnątrz budynków.\n",
        "\n",
        "6. **Rozprowadzanie wewnątrz budynku**  \n",
        "   W budynku energia elektryczna jest przesyłana przez instalację przewodów do poszczególnych gniazdek i punktów odbioru (np. światła, sprzęt domowy).\n",
        "\n",
        "## Rola transformatora\n",
        "\n",
        "- Transformator pozwala **zmieniać napięcie** bez przerywania obwodu prądu przemiennego (AC).  \n",
        "- Umożliwia obniżenie strat w przesyle, bo przy wyższym napięciu prąd jest mniejszy i mniej energii traconej w przewodach.  \n",
        "- Nie wytwarza energii – moc po stronie pierwotnej i wtórnej (pomijając straty) jest w przybliżeniu taka sama:  \n",
        "  $$ P_{\\text{pierwotna}} = P_{\\text{wtórna}} $$\n",
        "\n",
        "## Związane prawa i zależności\n",
        "\n",
        "- **Prawo Ohma**:  \n",
        "  $$ U = I \\cdot R $$  \n",
        "  - Im mniejszy opór (R), tym większy prąd (I) przy danym napięciu (U).  \n",
        "  - W przesyle wysokiego napięcia zależy nam, by zmniejszyć $I$, więc zwiększa się $U$.\n",
        "\n",
        "- **Moc elektryczna**:  \n",
        "  $$ P = U \\cdot I $$  \n",
        "  - Dla tej samej mocy, jeśli podniesiemy $U$, to $I$ się zmniejsza. To ogranicza straty, bo straty na przewodach zależą od $I^2 R$.\n",
        "\n",
        "## Praktyczne uwagi\n",
        "\n",
        "- Standardowe napięcie w gniazdku w Polsce to **230 V**.  \n",
        "- Typowy prąd zmienny (AC), co oznacza, że kierunek prądu cyklicznie się zmienia.  \n",
        "- Gniazdka są częścią instalacji wewnątrzbudynkowej – przewody, zabezpieczenia, bezpieczniki itp. – wszystko musi być poprawnie dobrane i wykonane.\n",
        "\n",
        "## Podsumowanie\n",
        "\n",
        "- Prąd w gniazdku to efekt wieloetapowego procesu: produkcji, transformacji, przesyłu i dystrybucji.  \n",
        "- Transformacja napięcia i prądu ma kluczowe znaczenie dla efektywności i bezpieczeństwa.  \n",
        "- Zrozumienie tego procesu pomaga lepiej rozumieć, dlaczego instalacje są takie, jakie są, oraz jakie znaczenie mają napięcie, prąd i opór.\n",
        "\n"
      ],
      "metadata": {
        "id": "CifJRIy8WDQ6"
      }
    }
  ]
}