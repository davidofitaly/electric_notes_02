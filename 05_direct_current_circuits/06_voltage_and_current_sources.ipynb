{
  "nbformat": 4,
  "nbformat_minor": 0,
  "metadata": {
    "colab": {
      "provenance": [],
      "authorship_tag": "ABX9TyMJuLCxwqlEuAbCQK3z4Q49",
      "include_colab_link": true
    },
    "kernelspec": {
      "name": "python3",
      "display_name": "Python 3"
    },
    "language_info": {
      "name": "python"
    }
  },
  "cells": [
    {
      "cell_type": "markdown",
      "metadata": {
        "id": "view-in-github",
        "colab_type": "text"
      },
      "source": [
        "<a href=\"https://colab.research.google.com/github/davidofitaly/electric_notes_02/blob/main/05_direct_current_circuits/06_voltage_and_current_sources.ipynb\" target=\"_parent\"><img src=\"https://colab.research.google.com/assets/colab-badge.svg\" alt=\"Open In Colab\"/></a>"
      ]
    },
    {
      "cell_type": "markdown",
      "source": [
        "# 06_voltage_and_current_sources\n",
        "\n",
        "## Co to są źródła napięciowe i prądowe\n",
        "\n",
        "Źródła napięciowe i prądowe to urządzenia, które dostarczają energii elektrycznej do odbiorników.  \n",
        "Ich zadaniem jest wytworzenie warunków, by elektrony mogły się przemieszczać — czyli zapewnić napięcie lub prąd.\n",
        "\n",
        "## Źródło napięciowe\n",
        "\n",
        "- Generuje stałe napięcie, niezależnie od tego, co jest do niego podłączone (do pewnych granic).  \n",
        "- Przykłady: baterie (np. 1,5 V), dynama (np. w rowerze), instalacja domowa (230 V).  \n",
        "- Działanie oparte na procesach: chemicznych (baterie), mechanicznych / elektromagnetycznych (dynamo).  \n",
        "- W źródle napięciowym prąd zależy od rezystancji odbiornika: mniejsza rezystancja → większy prąd, większa rezystancja → mniejszy prąd.\n",
        "\n",
        "## Źródło prądowe\n",
        "\n",
        "- Dostarcza **stały prąd**, niezależnie od zmieniającej się rezystancji obciążenia.  \n",
        "- W praktyce nadal wymaga napięcia, ale jego wartość dostosowuje się tak, by przez obwód płynął zadany prąd.  \n",
        "- Przykłady: ogniwa fotowoltaiczne przy stałym nasłonecznieniu, układy elektroniczne z tranzystorem, zasilacze laboratoryjne w trybie prądowym.  \n",
        "\n",
        "## Zastosowania i porównania\n",
        "\n",
        "- Źródła napięciowe są powszechniejsze w codziennym użyciu (telefony, urządzenia domowe).  \n",
        "- Źródła prądowe stosuje się tam, gdzie ważne jest utrzymanie stałego prądu (np. diody LED, czujniki prądowe).  \n",
        "- Źródła prądowe dobrze sprawdzają się przy długich przewodach i w obecności zakłóceń elektromagnetycznych, bo utrzymują stały prąd mimo zmian napięcia.\n",
        "\n",
        "## Wady i ograniczenia\n",
        "\n",
        "- Źródło prądowe jest bardziej skomplikowane konstrukcyjnie niż napięciowe.  \n",
        "- Zarówno źródła napięciowe, jak i prądowe mają ograniczenia graniczne (maksymalne napięcie, prąd, moc).  \n",
        "\n",
        "## Podsumowanie\n",
        "\n",
        "- **Źródło napięciowe:** zapewnia napięcie → prąd zależy od obciążenia.  \n",
        "- **Źródło prądowe:** zapewnia prąd → napięcie zależy od obciążenia.  \n",
        "- W praktyce stosuje się oba typy w zależności od wymagań układu.\n"
      ],
      "metadata": {
        "id": "f3NOE0BF35bs"
      }
    }
  ]
}