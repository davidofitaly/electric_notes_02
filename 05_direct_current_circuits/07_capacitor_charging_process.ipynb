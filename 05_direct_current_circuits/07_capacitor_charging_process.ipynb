{
  "nbformat": 4,
  "nbformat_minor": 0,
  "metadata": {
    "colab": {
      "provenance": [],
      "authorship_tag": "ABX9TyPBsju/Y7akQ2hLrx42yeVi",
      "include_colab_link": true
    },
    "kernelspec": {
      "name": "python3",
      "display_name": "Python 3"
    },
    "language_info": {
      "name": "python"
    }
  },
  "cells": [
    {
      "cell_type": "markdown",
      "metadata": {
        "id": "view-in-github",
        "colab_type": "text"
      },
      "source": [
        "<a href=\"https://colab.research.google.com/github/davidofitaly/electric_notes_02/blob/main/05_direct_current_circuits/07_capacitor_charging_process.ipynb\" target=\"_parent\"><img src=\"https://colab.research.google.com/assets/colab-badge.svg\" alt=\"Open In Colab\"/></a>"
      ]
    },
    {
      "cell_type": "markdown",
      "source": [
        "# 07_capacitor_charging_process\n",
        "\n",
        "## Wstęp\n",
        "\n",
        "Ładowanie kondensatora w obwodzie prądu stałego (DC) to proces, w którym kondensator gromadzi ładunek elektryczny, stopniowo zwiększając napięcie między swoimi okładzinami aż do wartości napięcia źródła. Proces ten jest kluczowy w wielu układach elektronicznych i elektrycznych.\n",
        "\n",
        "## Kluczowe pojęcia\n",
        "\n",
        "- **Pojemność elektryczna ($C$)**: Miara zdolności kondensatora do magazynowania ładunku. Definiowana jako stosunek zgromadzonego ładunku ($Q$) do napięcia ($V$) między okładzinami:\n",
        "  $$ C = \\frac{Q}{V} $$\n",
        "\n",
        "- **Stała czasowa ($\\tau$)**: Określa tempo ładowania kondensatora. Jest to czas, w którym napięcie na kondensatorze osiąga około 63% wartości końcowej. Wyrażana wzorem:\n",
        "  $$ \\tau = R \\cdot C $$\n",
        "  gdzie:\n",
        "  - $R$ – rezystancja w obwodzie,\n",
        "  - $C$ – pojemność kondensatora.\n",
        "\n",
        "## Proces ładowania kondensatora\n",
        "\n",
        "1. **Początkowy stan**: Po zamknięciu obwodu kondensator jest początkowo niezaładowany, więc napięcie na jego okładzinach wynosi $0\\ V$.\n",
        "\n",
        "2. **Początkowy prąd**: Tuż po zamknięciu obwodu prąd jest maksymalny i wynosi:\n",
        "   $$ I_0 = \\frac{V}{R} $$\n",
        "\n",
        "3. **Zmiana napięcia**: W miarę upływu czasu napięcie na kondensatorze rośnie zgodnie ze wzorem:\n",
        "   $$ V_C(t) = V \\left(1 - e^{-\\frac{t}{\\tau}}\\right) $$\n",
        "   gdzie:\n",
        "   - $V_C(t)$ – napięcie na kondensatorze w czasie $t$,\n",
        "   - $V$ – napięcie źródła,\n",
        "   - $\\tau$ – stała czasowa.\n",
        "\n",
        "4. **Zmiana prądu**: Prąd w obwodzie maleje w czasie, zgodnie ze wzorem:\n",
        "   $$ I(t) = \\frac{V}{R} e^{-\\frac{t}{\\tau}} $$\n",
        "\n",
        "5. **Końcowy stan**: Po czasie $t = 5\\tau$ napięcie na kondensatorze osiąga około 99% wartości końcowej, a prąd w obwodzie staje się bardzo mały (praktycznie zerowy).\n",
        "\n",
        "## Obliczanie zgromadzonej energii\n",
        "\n",
        "Energia zgromadzona w kondensatorze w chwili $t$ wyraża się wzorem:\n",
        "$$ E(t) = \\frac{1}{2} C V_C(t)^2 $$\n",
        "gdzie:\n",
        "- $E(t)$ – energia zgromadzona w kondensatorze w czasie $t$,\n",
        "- $C$ – pojemność kondensatora,\n",
        "- $V_C(t)$ – napięcie na kondensatorze w czasie $t$.\n",
        "\n",
        "## Przykład obliczeniowy\n",
        "\n",
        "Załóżmy, że mamy kondensator o pojemności $100\\ \\mu F$, podłączony do źródła napięcia $12\\ V$ przez rezystor o wartości $1\\ k\\Omega$.\n",
        "\n",
        "1. **Obliczanie stałej czasowej**:\n",
        "   $$ \\tau = R \\cdot C = 1000\\ \\Omega \\cdot 100 \\times 10^{-6}\\ F = 0,1\\ s $$\n",
        "\n",
        "2. **Obliczanie napięcia na kondensatorze po $0,2\\ s$**:\n",
        "   $$ V_C(0,2) = 12 \\left(1 - e^{-\\frac{0,2}{0,1}}\\right) \\approx 12 \\cdot 0,8647 \\approx 10,38\\ V $$\n",
        "\n",
        "3. **Obliczanie prądu w obwodzie po $0,2\\ s$**:\n",
        "   $$ I(0,2) = \\frac{12}{1000} e^{-\\frac{0,2}{0,1}} \\approx 0,012 \\cdot e^{-2} \\approx 0,0044\\ A = 4,4\\ mA $$\n",
        "\n",
        "4. **Obliczanie energii zgromadzonej w kondensatorze po $0,2\\ s$**:\n",
        "   $$ E(0,2) = \\frac{1}{2} \\cdot 100 \\times 10^{-6} \\cdot (10,38)^2 \\approx 0,0538\\ mJ $$\n",
        "\n",
        "## Podsumowanie\n",
        "\n",
        "- Ładowanie kondensatora w obwodzie prądu stałego jest procesem eksponencjalnym, w którym napięcie na kondensatorze rośnie, a prąd maleje w czasie.  \n",
        "- Stała czasowa $\\tau$ określa tempo tego procesu i zależy od wartości rezystancji i pojemności w obwodzie.  \n",
        "- Po pełnym naładowaniu kondensatora prąd w obwodzie ustaje, a kondensator utrzymuje zgromadzoną energię.  \n",
        "- Zrozumienie procesu ładowania kondensatora jest kluczowe w projektowaniu układów elektronicznych, takich jak filtry, zasilacze czy układy czasowe.\n"
      ],
      "metadata": {
        "id": "IkSGVRVV5dYm"
      }
    },
    {
      "cell_type": "code",
      "execution_count": null,
      "metadata": {
        "id": "b2v0T6BC5Z7x"
      },
      "outputs": [],
      "source": []
    }
  ]
}