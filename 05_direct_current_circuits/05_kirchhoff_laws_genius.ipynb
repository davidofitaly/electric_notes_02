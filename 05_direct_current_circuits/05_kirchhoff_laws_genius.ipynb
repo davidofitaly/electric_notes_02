{
  "nbformat": 4,
  "nbformat_minor": 0,
  "metadata": {
    "colab": {
      "provenance": [],
      "authorship_tag": "ABX9TyN2rjnZo22ATa/R6sOUWSAG",
      "include_colab_link": true
    },
    "kernelspec": {
      "name": "python3",
      "display_name": "Python 3"
    },
    "language_info": {
      "name": "python"
    }
  },
  "cells": [
    {
      "cell_type": "markdown",
      "metadata": {
        "id": "view-in-github",
        "colab_type": "text"
      },
      "source": [
        "<a href=\"https://colab.research.google.com/github/davidofitaly/electric_notes_02/blob/main/05_direct_current_circuits/05_kirchhoff_laws_genius.ipynb\" target=\"_parent\"><img src=\"https://colab.research.google.com/assets/colab-badge.svg\" alt=\"Open In Colab\"/></a>"
      ]
    },
    {
      "cell_type": "markdown",
      "source": [
        "##Geniusz Praw Kirchhoffa\n",
        "\n",
        "## Co wprowadził Gustav Kirchhoff\n",
        "\n",
        "- Rozszerzył zastosowanie Prawa Ohma z prostych układów (pojedynczy odbiornik) na złożone sieci elektryczne.  \n",
        "- Wymyślił sposób, by analizować prądy i napięcia w układach, gdzie występuje wiele przewodników, gałęzi, źródeł SEM.  \n",
        "\n",
        "## Prawa Kirchhoffa – dwa fundamentalne prawa\n",
        "\n",
        "### 1. Pierwsze Prawo Kirchhoffa (prawo prądowe, KCL – Kirchhoff’s Current Law)\n",
        "\n",
        "- W każdym **węźle** obwodu suma prądów wpływających = suma prądów wypływających.  \n",
        "- Alternatywnie: algebraiczna suma wszystkich prądów w węźle (prądy wpływające +, wypływające −) = 0.  \n",
        "\n",
        "### 2. Drugie Prawo Kirchhoffa (prawo napięciowe, KVL – Kirchhoff’s Voltage Law)\n",
        "\n",
        "- W każdym **zamkniętym oczku** obwodu, suma napięć źródłowych = suma spadków napięć na elementach odbiorczych.  \n",
        "- Również: algebraiczna suma napięć (źródła ze znakiem + lub −, spadki napięć ze znakiem zależnym od kierunku) wokół oczka = 0.  \n",
        "\n",
        "## Znaczenie konwencji\n",
        "\n",
        "- Trzeba przyjąć **umowny kierunek obiegu** (np. zgodny lub przeciwny wskazówkom zegara).  \n",
        "- Prąd / napięcie w gałęzi może być zgodny albo przeciwny do przyjętego kierunku — oznacza to + albo − w równaniu.  \n",
        "\n",
        "## Zastosowanie\n",
        "\n",
        "- Pozwala obliczać prądy w każdym fragmencie złożonych sieci.  \n",
        "- Pozwala ustalać napięcie na poszczególnych elementach, gdy mamy źródła i odbiorniki w oczkach.  \n",
        "- Kluczowe w projektowaniu i analizie obwodów – sterowanie, elektronika, systemy zasilania.  \n",
        "\n",
        "## Ograniczenia / uwagi\n",
        "\n",
        "- Działa pod warunkiem, że obwód jest w stanie ustalonym (nie zmiennym w czasie dynamicznie).  \n",
        "- Drugie prawo może wymagać uwzględnienia indukcji, jeśli obwód znajduje się w polu magnetycznym zmiennym.  \n",
        "- Prawo prądowe wynika z zasady zachowania ładunku – ładunek nie „zbiera się” w węzłach.  \n",
        "\n",
        "## Wzory\n",
        "\n",
        "- Pierwsze prawo Kirchhoffa (KCL):  \n",
        "  $$ \\sum I_{\\text{wpływające}} = \\sum I_{\\text{wypływające}} $$  \n",
        "  albo  \n",
        "  $$ \\sum I = 0 $$  \n",
        "- Drugie prawo Kirchhoffa (KVL):  \n",
        "  $$ \\sum U_{\\text{źródeł}} = \\sum U_{\\text{spadków}} $$  \n",
        "  albo  \n",
        "  $$ \\sum U = 0 $$  \n",
        "\n"
      ],
      "metadata": {
        "id": "nx93bYVGkrhr"
      }
    }
  ]
}