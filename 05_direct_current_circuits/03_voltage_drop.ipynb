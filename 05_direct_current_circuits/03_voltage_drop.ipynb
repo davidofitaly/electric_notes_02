{
  "nbformat": 4,
  "nbformat_minor": 0,
  "metadata": {
    "colab": {
      "provenance": [],
      "authorship_tag": "ABX9TyO5T7ihr8K1SnMee8VJlAos",
      "include_colab_link": true
    },
    "kernelspec": {
      "name": "python3",
      "display_name": "Python 3"
    },
    "language_info": {
      "name": "python"
    }
  },
  "cells": [
    {
      "cell_type": "markdown",
      "metadata": {
        "id": "view-in-github",
        "colab_type": "text"
      },
      "source": [
        "<a href=\"https://colab.research.google.com/github/davidofitaly/electric_notes_02/blob/main/05_direct_current_circuits/03_voltage_drop.ipynb\" target=\"_parent\"><img src=\"https://colab.research.google.com/assets/colab-badge.svg\" alt=\"Open In Colab\"/></a>"
      ]
    },
    {
      "cell_type": "markdown",
      "source": [
        "\n",
        "\n",
        "##  Co to jest spadek napięcia?\n",
        "\n",
        "Spadek napięcia to różnica potencjałów między dwoma punktami w obwodzie elektrycznym, która występuje, gdy przez przewód lub element obwodu płynie prąd.\n",
        "\n",
        "**Wzór:**\n",
        "\n",
        "$$ U = I \\cdot R $$\n",
        "\n",
        "gdzie:\n",
        "\n",
        "- $U$ – spadek napięcia (V)\n",
        "- $I$ – natężenie prądu (A)\n",
        "- $R$ – rezystancja (Ω)\n",
        "\n",
        "##  Kiedy występuje spadek napięcia?\n",
        "\n",
        "Spadek napięcia występuje tylko wtedy, gdy przez obwód płynie prąd. Oznacza to, że:\n",
        "\n",
        "- Spadek napięcia odzwierciedla zużywaną energię.\n",
        "- Energia może być zużywana tylko wtedy, gdy elektrony fizycznie ją dostarczą.\n",
        "\n",
        "##  Jakie elementy powodują spadek napięcia?\n",
        "\n",
        "- **Rezystory** – każdy rezystor w obwodzie powoduje spadek napięcia proporcjonalny do płynącego przez niego prądu.\n",
        "- **Przewody** – choć mają niewielką rezystancję, długie przewody mogą powodować zauważalny spadek napięcia, co jest istotne w instalacjach przemysłowych.\n",
        "\n",
        "##  Dodatkowe informacje\n",
        "\n",
        "- **Podział energii** – energia dostarczana przez źródło napięcia jest dzielona między wszystkie odbiorniki w obwodzie. O tym, który odbiornik zużyje więcej energii, decyduje jego rezystancja.\n",
        "- **Ważność spadku napięcia** – zrozumienie spadku napięcia jest kluczowe dla projektowania efektywnych i bezpiecznych obwodów elektrycznych.\n",
        "\n",
        "##  Podsumowanie\n",
        "\n",
        "Spadek napięcia jest nieuniknionym zjawiskiem w każdym obwodzie elektrycznym. Zrozumienie jego przyczyn i skutków pozwala na lepsze projektowanie i eksploatację instalacji elektrycznych, minimalizując straty energii i zapewniając bezpieczeństwo użytkowania.\n",
        "\n"
      ],
      "metadata": {
        "id": "qprDCiJmeF03"
      }
    }
  ]
}