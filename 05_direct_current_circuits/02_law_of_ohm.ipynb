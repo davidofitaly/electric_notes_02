{
  "nbformat": 4,
  "nbformat_minor": 0,
  "metadata": {
    "colab": {
      "provenance": [],
      "authorship_tag": "ABX9TyP+YGpoF3a3DpLyKNyxgEAb",
      "include_colab_link": true
    },
    "kernelspec": {
      "name": "python3",
      "display_name": "Python 3"
    },
    "language_info": {
      "name": "python"
    }
  },
  "cells": [
    {
      "cell_type": "markdown",
      "metadata": {
        "id": "view-in-github",
        "colab_type": "text"
      },
      "source": [
        "<a href=\"https://colab.research.google.com/github/davidofitaly/electric_notes_02/blob/main/05_direct_current_circuits/02_law_of_ohm.ipynb\" target=\"_parent\"><img src=\"https://colab.research.google.com/assets/colab-badge.svg\" alt=\"Open In Colab\"/></a>"
      ]
    },
    {
      "cell_type": "markdown",
      "source": [
        "\n",
        "\n",
        "## Prawo Ohma – definicja\n",
        "\n",
        "Prawo Ohma opisuje związek między napięciem ($U$), prądem ($I$) i rezystancją ($R$) w obwodach elektrycznych.  \n",
        "Jest to jedno z fundamentalnych praw elektrotechniki.\n",
        "\n",
        "**Wzór:**\n",
        "\n",
        "$$ U = I \\cdot R $$\n",
        "\n",
        "gdzie:\n",
        "\n",
        "- $U$ – napięcie w woltach (V)  \n",
        "- $I$ – natężenie prądu w amperach (A)  \n",
        "- $R$ – rezystancja w omach (Ω)  \n",
        "\n",
        "## Eksperymenty ilustrujące Prawo Ohma\n",
        "\n",
        "### 1. Związek między napięciem a prądem\n",
        "\n",
        "Wzrost napięcia przy stałej rezystancji powoduje proporcjonalny wzrost natężenia prądu.  \n",
        "Na przykład, podwójne napięcie skutkuje podwójnym prądem.\n",
        "\n",
        "> **Wniosek:** Napięcie i prąd są ze sobą wprost proporcjonalne.\n",
        "\n",
        "### 2. Związek między rezystancją a prądem\n",
        "\n",
        "Zwiększenie rezystancji przy stałym napięciu powoduje spadek natężenia prądu.  \n",
        "Na przykład, podwojenie długości przewodu zwiększa jego rezystancję, co skutkuje zmniejszeniem prądu.\n",
        "\n",
        "> **Wniosek:** Rezystancja i prąd są ze sobą odwrotnie proporcjonalne.\n",
        "\n",
        "### 3. Utrzymanie stałego prądu\n",
        "\n",
        "Aby utrzymać stałe natężenie prądu, zmiany napięcia muszą być równoważone przez zmiany rezystancji.  \n",
        "Na przykład, podwojenie napięcia wymaga podwojenia rezystancji, aby prąd pozostał niezmieniony.\n",
        "\n",
        "> **Wniosek:** Utrzymanie stałego prądu wymaga równowagi między napięciem a rezystancją.\n",
        "\n",
        "## Zastosowanie Prawa Ohma\n",
        "\n",
        "Prawo Ohma jest podstawą przy projektowaniu obwodów elektrycznych, pozwalając na:\n",
        "\n",
        "- dobór odpowiednich wartości rezystorów,  \n",
        "- obliczanie spadków napięcia,  \n",
        "- dobór bezpiecznych wartości prądu dla komponentów.  \n",
        "\n",
        "Zrozumienie Prawa Ohma jest kluczowe dla efektywnego i bezpiecznego projektowania systemów elektrycznych.\n"
      ],
      "metadata": {
        "id": "vtxGNDeKTePi"
      }
    }
  ]
}