{
  "nbformat": 4,
  "nbformat_minor": 0,
  "metadata": {
    "colab": {
      "provenance": [],
      "authorship_tag": "ABX9TyMOo/Au+U0D0CuO5GBjvIrQ",
      "include_colab_link": true
    },
    "kernelspec": {
      "name": "python3",
      "display_name": "Python 3"
    },
    "language_info": {
      "name": "python"
    }
  },
  "cells": [
    {
      "cell_type": "markdown",
      "metadata": {
        "id": "view-in-github",
        "colab_type": "text"
      },
      "source": [
        "<a href=\"https://colab.research.google.com/github/davidofitaly/electric_notes_02/blob/main/05_direct_current_circuits/01_basic_electric_circuit.ipynb\" target=\"_parent\"><img src=\"https://colab.research.google.com/assets/colab-badge.svg\" alt=\"Open In Colab\"/></a>"
      ]
    },
    {
      "cell_type": "markdown",
      "source": [
        "# Obwód elektryczny – podstawy\n",
        "\n",
        "Obwód elektryczny to układ, który umożliwia przepływ energii elektrycznej do urządzenia odbiorczego, takiego jak żarówka czy silnik.  \n",
        "Jego głównym celem jest zasilenie odbiornika lub przesyłanie informacji.\n",
        "\n",
        "## Podstawowe elementy obwodu\n",
        "\n",
        "- **Źródło energii** – np. bateria, która generuje różnicę potencjałów, umożliwiając przepływ elektronów.  \n",
        "- **Odbiornik** – urządzenie, które wykorzystuje energię elektryczną, np. żarówka (symbol: $R$).  \n",
        "- **Przewody** – łączące źródło z odbiornikiem, tworzące ścieżkę dla przepływu prądu.\n",
        "\n",
        "Aby obwód działał, musi być **zamknięty** – oznacza to, że przewody muszą tworzyć ciągłą drogę od jednego bieguna źródła do drugiego.  \n",
        "W przeciwnym razie energia nie zostanie przesłana, a odbiornik nie będzie działać.\n",
        "\n",
        "## Dlaczego obwód musi być zamknięty?\n",
        "\n",
        "Bateria działa na zasadzie reakcji chemicznych, które powodują gromadzenie elektronów w jednym biegunie i ich brak w drugim.  \n",
        "Ta nierównowaga tworzy napięcie elektryczne.  \n",
        "Elektrony dążą do wyrównania tej różnicy, ale nie mogą przejść przez wnętrze baterii.  \n",
        "Dlatego potrzebują zewnętrznej drogi – przewodów – aby przepłynąć z jednego bieguna na drugi, umożliwiając przepływ prądu i zasilenie odbiornika.\n",
        "\n",
        "## Dodatkowe informacje\n",
        "\n",
        "- **Symbol żarówki**: kółko z dwiema równoległymi liniami, często z literą \"$R$\" obok.  \n",
        "- **Symbol baterii**: prostokąt z literą \"$B$\" w środku.  \n",
        "\n",
        "Zrozumienie podstaw obwodów elektrycznych jest kluczowe dla dalszego zgłębiania elektrotechniki i elektroniki.  \n",
        "Pozwala to na projektowanie, analizowanie i naprawianie układów elektronicznych w praktyce.\n"
      ],
      "metadata": {
        "id": "I1QpquJBBqF7"
      }
    }
  ]
}