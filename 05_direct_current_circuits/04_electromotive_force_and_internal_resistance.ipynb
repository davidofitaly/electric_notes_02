{
  "nbformat": 4,
  "nbformat_minor": 0,
  "metadata": {
    "colab": {
      "provenance": [],
      "authorship_tag": "ABX9TyNDy5I3wf9VgKsphnQZsJXG",
      "include_colab_link": true
    },
    "kernelspec": {
      "name": "python3",
      "display_name": "Python 3"
    },
    "language_info": {
      "name": "python"
    }
  },
  "cells": [
    {
      "cell_type": "markdown",
      "metadata": {
        "id": "view-in-github",
        "colab_type": "text"
      },
      "source": [
        "<a href=\"https://colab.research.google.com/github/davidofitaly/electric_notes_02/blob/main/05_direct_current_circuits/04_electromotive_force_and_internal_resistance.ipynb\" target=\"_parent\"><img src=\"https://colab.research.google.com/assets/colab-badge.svg\" alt=\"Open In Colab\"/></a>"
      ]
    },
    {
      "cell_type": "markdown",
      "source": [
        "# 04_electromotive_force_and_internal_resistance\n",
        "\n",
        "## Definicje\n",
        "\n",
        "- **Siła elektromotoryczna (SEM / EMF)** – maksymalne napięcie, które źródło (np. bateria, generator) może wygenerować, gdy obwód jest otwarty.  \n",
        "- **Rezystancja wewnętrzna** – opór wewnątrz źródła napięcia, który powoduje, że napięcie dostępne pod obciążeniem jest niższe niż wartość SEM.  \n",
        "\n",
        "## Różnica między SEM a napięciem pracy\n",
        "\n",
        "- **SEM** – napięcie idealne, mierzone przy braku obciążenia.  \n",
        "- **Napięcie pracy** – rzeczywiste napięcie mierzone przy podłączeniu odbiornika; zawsze niższe od SEM z powodu rezystancji wewnętrznej.  \n",
        "\n",
        "## Skutki istnienia rezystancji wewnętrznej\n",
        "\n",
        "- Powoduje spadek napięcia wewnątrz źródła.  \n",
        "- Im większy prąd pobierany przez odbiornik, tym większy spadek napięcia.  \n",
        "- Jest nieunikniona – występuje w każdej baterii, akumulatorze czy generatorze.  \n",
        "\n",
        "## Jak zmierzyć rezystancję wewnętrzną\n",
        "\n",
        "1. Zmierz SEM źródła – obwód otwarty, bez obciążenia.  \n",
        "2. Podłącz rezystor o znanej rezystancji i zmierz napięcie pracy.  \n",
        "3. Oblicz prąd płynący przez rezystor:  \n",
        "   $$ I = \\frac{U_{\\text{pracy}}}{R_{\\text{rezystora}}} $$  \n",
        "4. Oblicz rezystancję wewnętrzną:  \n",
        "   $$ R_{\\text{wew}} = \\frac{U_{\\text{SEM}} - U_{\\text{pracy}}}{I} $$  \n",
        "\n",
        "## Przykład\n",
        "\n",
        "- SEM = 1,595 V  \n",
        "- Rezystor $R = 46,1\\ \\Omega$  \n",
        "- Napięcie pracy = 1,583 V  \n",
        "- Różnica napięć = 0,013 V  \n",
        "- Prąd:  \n",
        "  $$ I = \\frac{1,583}{46,1} \\approx 0,034\\ A $$  \n",
        "- Rezystancja wewnętrzna:  \n",
        "  $$ R_{\\text{wew}} = \\frac{0,013}{0,034} \\approx 0,382\\ \\Omega $$  \n",
        "\n",
        "## Czynniki wpływające na rezystancję wewnętrzną\n",
        "\n",
        "- Jakość i struktura elektrod.  \n",
        "- Przewodność elektrolitu.  \n",
        "- Zużycie ogniwa i procesy chemiczne wewnątrz.  \n",
        "- Temperatura pracy.  \n",
        "- Starzenie się ogniwa – wzrost rezystancji wewnętrznej w czasie.  \n",
        "\n",
        "## Podsumowanie\n",
        "\n",
        "- SEM to napięcie idealne (bez obciążenia).  \n",
        "- Napięcie pod obciążeniem jest niższe z powodu rezystancji wewnętrznej.  \n",
        "- Różnica między nimi to spadek napięcia wewnętrznego.  \n",
        "- Pomiar rezystancji wewnętrznej pozwala ocenić kondycję źródła energii.\n"
      ],
      "metadata": {
        "id": "kJU-7s80jfwa"
      }
    }
  ]
}