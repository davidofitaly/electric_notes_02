{
  "nbformat": 4,
  "nbformat_minor": 0,
  "metadata": {
    "colab": {
      "provenance": [],
      "authorship_tag": "ABX9TyNsOWPO99wDHPe4XWhJgGt4",
      "include_colab_link": true
    },
    "kernelspec": {
      "name": "python3",
      "display_name": "Python 3"
    },
    "language_info": {
      "name": "python"
    }
  },
  "cells": [
    {
      "cell_type": "markdown",
      "metadata": {
        "id": "view-in-github",
        "colab_type": "text"
      },
      "source": [
        "<a href=\"https://colab.research.google.com/github/davidofitaly/electric_notes_02/blob/main/02_electrostatics/01_what_is_electric_charge.ipynb\" target=\"_parent\"><img src=\"https://colab.research.google.com/assets/colab-badge.svg\" alt=\"Open In Colab\"/></a>"
      ]
    },
    {
      "cell_type": "markdown",
      "source": [
        "\n",
        "\n",
        "## Czym jest ładunek elektryczny?\n",
        "\n",
        "### 1. Ładunek jako cecha cząstki\n",
        "\n",
        "Ładunek elektryczny to fundamentalna **cecha cząstki** – podobnie jak masa, ale dotycząca oddziaływań elektromagnetycznych. Wyróżniamy trzy stany:\n",
        "\n",
        "- **Ładunek dodatni** (np. +q) – mają go protony.  \n",
        "- **Ładunek ujemny** (−q) – mają go elektrony.  \n",
        "- **Ładunek neutralny** – cząstki, które mają zrównoważoną ilość ładunków dodatnich i ujemnych (np. neutrony) lub brak ładunku.\n",
        "\n",
        "### 2. Jak ładunki oddziałują\n",
        "\n",
        "- Ładunki **przeciwne** (dodatni i ujemny) się **przyciągają**.  \n",
        "- Ładunki **jednakowe** (dwa dodatnie lub dwa ujemne) się **odpychają**.  \n",
        "- Ładunki **neutralne** nie oddziałują elektrostatycznie.\n",
        "\n",
        "### 3. Protony, elektrony i neutrony\n",
        "\n",
        "| Cząstka   |  Ładunek     | Eigencność |\n",
        "|-----------|--------------|----------------|\n",
        "| Proton     | dodatni (+q)  | stanowi jądro atomu |\n",
        "| Elektron   | ujemny (−q)   | krąży wokół jądra |\n",
        "| Neutron    | neutralny     | stabilizuje jądro  |\n",
        "\n",
        "Ładunek punktowy atomu wynika z nierównowagi między protonami a elektronami. Cząstki te definiują, czy atom działa jako jon dodatni, ujemny, czy pozostaje obojętny.\n",
        "\n",
        "### 4. Dlaczego to ważne?\n",
        "\n",
        "Zrozumienie ładunku jest kluczowe w elektrostatyce. To właśnie obecność i ruch ładunków elektrycznych odpowiada za zjawiska takie jak:\n",
        "\n",
        "- Przewodnictwo elektryczne (przepływ elektronów w metalu).  \n",
        "- Tworzenie pól elektrostatycznych.  \n",
        "- Silnik elektryczny, rozgrzewanie, oświetlenie — wszystko to związane jest z kontrolą i ruchem ładunków.\n",
        "\n",
        "---\n",
        "\n",
        "**Podsumowanie:**  \n",
        "Ładunek elektryczny to nie cząstka, a właściwość cząstki. Istnieją trzy typy: dodatni, ujemny i neutralny. Ich wzajemne oddziaływania (przyciąganie, odpychanie) stanowią podstawę elektrostatyki i elektrotechniki.\n",
        "\n"
      ],
      "metadata": {
        "id": "3UY_4RTtTGdm"
      }
    }
  ]
}