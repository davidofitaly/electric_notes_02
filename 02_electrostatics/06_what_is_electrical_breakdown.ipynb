{
  "nbformat": 4,
  "nbformat_minor": 0,
  "metadata": {
    "colab": {
      "provenance": [],
      "authorship_tag": "ABX9TyP+lWUDXXs8O372qjJcoqGl",
      "include_colab_link": true
    },
    "kernelspec": {
      "name": "python3",
      "display_name": "Python 3"
    },
    "language_info": {
      "name": "python"
    }
  },
  "cells": [
    {
      "cell_type": "markdown",
      "metadata": {
        "id": "view-in-github",
        "colab_type": "text"
      },
      "source": [
        "<a href=\"https://colab.research.google.com/github/davidofitaly/electric_notes_02/blob/main/02_electrostatics/06_what_is_electrical_breakdown.ipynb\" target=\"_parent\"><img src=\"https://colab.research.google.com/assets/colab-badge.svg\" alt=\"Open In Colab\"/></a>"
      ]
    },
    {
      "cell_type": "markdown",
      "source": [
        "## Czym jest przebicie elektryczne?\n",
        "\n",
        "### 1. Definicja przebicia elektrycznego\n",
        "Przebicie elektryczne to zjawisko, w którym izolator traci swoje właściwości izolacyjne i zaczyna przewodzić prąd.  \n",
        "Dzieje się to, gdy natężenie pola elektrycznego przekroczy wartość krytyczną — tzw. **wytrzymałość dielektryczną** materiału.\n",
        "\n",
        "### 2. Wytrzymałość dielektryczna\n",
        "Wytrzymałość dielektryczna ($E_{kr}$) to maksymalne natężenie pola elektrycznego, jakie materiał może wytrzymać, zanim dojdzie do przebicia.  \n",
        "Jednostka: **V/m**\n",
        "\n",
        "Wzór na natężenie pola elektrycznego:\n",
        "$$\n",
        "E = \\frac{U}{d}\n",
        "$$\n",
        "\n",
        "gdzie:  \n",
        "- $E$ – natężenie pola elektrycznego,  \n",
        "- $U$ – napięcie przyłożone,  \n",
        "- $d$ – odległość między elektrodami.\n",
        "\n",
        "### 3. Mechanizm przebicia\n",
        "- Przy zbyt dużym napięciu elektrony uzyskują energię zdolną do jonizacji atomów.  \n",
        "- Powstaje lawina elektronów → gwałtowny wzrost przewodnictwa materiału.  \n",
        "- Izolator zaczyna przewodzić prąd jak przewodnik.\n",
        "\n",
        "### 4. Przykłady wytrzymałości dielektrycznej materiałów\n",
        "- Powietrze: ok. $3 \\cdot 10^6 \\, \\text{V/m}$  \n",
        "- Olej transformatorowy: ok. $10 \\cdot 10^6 \\, \\text{V/m}$  \n",
        "- Ceramika: $10^7 \\, \\text{V/m}$ i więcej\n",
        "\n",
        "### 5. Skutki przebicia\n",
        "- Zwarcia i uszkodzenia izolacji,  \n",
        "- Iskry i wyładowania elektryczne (np. piorun w atmosferze),  \n",
        "- Zagrożenie dla bezpieczeństwa ludzi i urządzeń.\n",
        "\n",
        "### 6. Zastosowania kontrolowanego przebicia\n",
        "- Iskrowniki,  \n",
        "- Świece zapłonowe,  \n",
        "- Lampy wyładowcze.\n"
      ],
      "metadata": {
        "id": "bzPUH1TQs3PE"
      }
    }
  ]
}