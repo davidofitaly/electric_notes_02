{
  "nbformat": 4,
  "nbformat_minor": 0,
  "metadata": {
    "colab": {
      "provenance": [],
      "authorship_tag": "ABX9TyMHfBFzjLWojqzmQNhlADQl",
      "include_colab_link": true
    },
    "kernelspec": {
      "name": "python3",
      "display_name": "Python 3"
    },
    "language_info": {
      "name": "python"
    }
  },
  "cells": [
    {
      "cell_type": "markdown",
      "metadata": {
        "id": "view-in-github",
        "colab_type": "text"
      },
      "source": [
        "<a href=\"https://colab.research.google.com/github/davidofitaly/electric_notes_02/blob/main/02_electrostatics/02_electric_field_and_coulombs_law.ipynb\" target=\"_parent\"><img src=\"https://colab.research.google.com/assets/colab-badge.svg\" alt=\"Open In Colab\"/></a>"
      ]
    },
    {
      "cell_type": "markdown",
      "source": [
        "## Pole elektryczne i Prawo Coulomba\n",
        "\n",
        "### 1. Prawo Coulomba\n",
        "\n",
        "- Siła wzajemnego oddziaływania między dwoma ładunkami punktowymi jest **wprost proporcjonalna do iloczynu tych ładunków** i **odwrotnie proporcjonalna do kwadratu odległości** między nimi.  \n",
        "- Matematyczne wyrażenie:\n",
        "  $$\n",
        "  F = k_e \\cdot \\frac{q_1 q_2}{r^2}\n",
        "  $$\n",
        "  gdzie:\n",
        "  - $q_1, q_2$ – wartości ładunków elektrycznych (w kulombach),  \n",
        "  - $r$ – odległość między nimi (w metrach),  \n",
        "  - $k_e$ – stała elektrostatyczna, około $8{,}99 \\cdot 10^9 \\, \\frac{\\text{N}\\cdot \\text{m}^2}{\\text{C}^2}$.  \n",
        "\n",
        "- **Siła jest wielkością wektorową** – ma wartość, kierunek i zwrot.  \n",
        "  - Ładunki jednakowe → **odpychają się**  \n",
        "  - Ładunki przeciwne → **przyciągają się**\n",
        "\n",
        "### 2. Pole elektryczne (E)\n",
        "\n",
        "- **Pole elektryczne** wokół naładowanego ciała można przedstawić jako przestrzeń wypełnioną strzałkami:  \n",
        "  - skierowanymi **na zewnątrz** dla ładunków dodatnich,  \n",
        "  - skierowanymi **do wewnątrz** dla ładunków ujemnych.  \n",
        "\n",
        "- Gęstość linii pola wskazuje, gdzie pole jest silniejsze (bliżej ładunku) lub słabsze (dalej).\n",
        "\n",
        "### 3. Natężenie pola elektrycznego ($E$)\n",
        "\n",
        "- Definicja: siła działająca na jednostkowy ładunek w danym punkcie pola.  \n",
        "  $$\n",
        "  E = k_e \\cdot \\frac{q}{r^2}\n",
        "  $$\n",
        "- Jednostka natężenia: **niuton na kulomb (N/C)**.  \n",
        "  - Przykład: pole o natężeniu $2 \\, \\text{N/C}$ wywiera siłę $2 \\, \\text{N}$ na ładunek $1 \\, \\text{C}$ i $20 \\, \\text{N}$ na ładunek $10 \\, \\text{C}$.\n",
        "\n",
        "### 4. Dipol elektryczny\n",
        "\n",
        "- Dipol to układ dwóch przeciwstawnych ładunków (+Q i −Q) w pewnej odległości.  \n",
        "- Pole wytwarzane przez dipol ma bardziej złożony kształt niż pole pojedynczego ładunku.\n",
        "\n",
        "### 5. Podsumowanie\n",
        "\n",
        "- **Prawo Coulomba** opisuje siłę między ładunkami.  \n",
        "- **Pole elektryczne** to przestrzeń wokół ładunku, w której działają siły na inne ładunki.  \n",
        "- **Natężenie pola** opisuje, jak silnie działa pole na jednostkowy ładunek.  \n",
        "- **Dipol** – dwa przeciwne ładunki tworzą charakterystyczny układ pola.\n"
      ],
      "metadata": {
        "id": "dTdqsYmlT7NT"
      }
    }
  ]
}