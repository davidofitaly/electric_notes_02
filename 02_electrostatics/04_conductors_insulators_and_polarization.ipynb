{
  "nbformat": 4,
  "nbformat_minor": 0,
  "metadata": {
    "colab": {
      "provenance": [],
      "authorship_tag": "ABX9TyPJPgupBWEFu88jl/wOwVio",
      "include_colab_link": true
    },
    "kernelspec": {
      "name": "python3",
      "display_name": "Python 3"
    },
    "language_info": {
      "name": "python"
    }
  },
  "cells": [
    {
      "cell_type": "markdown",
      "metadata": {
        "id": "view-in-github",
        "colab_type": "text"
      },
      "source": [
        "<a href=\"https://colab.research.google.com/github/davidofitaly/electric_notes_02/blob/main/02_electrostatics/04_conductors_insulators_and_polarization.ipynb\" target=\"_parent\"><img src=\"https://colab.research.google.com/assets/colab-badge.svg\" alt=\"Open In Colab\"/></a>"
      ]
    },
    {
      "cell_type": "markdown",
      "source": [
        "## Przewodniki, izolatory i polaryzacja\n",
        "\n",
        "### 1. Ładunek w materii\n",
        "\n",
        "Kiedy naelektryzowany przedmiot (np. przez tarcie szkła futrem) przeniesie ładunek, elektrony gromadzą się na powierzchni i próbują się od niej oddalić — ale pozostają ograniczone obszarem obiektu.\n",
        "\n",
        "### 2. Przewodniki vs. izolatory\n",
        "\n",
        "- **Przewodniki**: materiały (np. metale) zawierające **wolne elektrony**, które mogą swobodnie się przemieszczać.  \n",
        "  Przykłady: miedź, aluminium, żelazo.  \n",
        "  Ładunek rozprowadza się po całej powierzchni.\n",
        "\n",
        "- **Izolatory**: materiały, w których elektrony są silnie związane z atomami i nie mogą swobodnie się poruszać.  \n",
        "  Przykłady: plastik, szkło, drewno.  \n",
        "  Ładunek pozostaje w miejscu, gdzie został umieszczony.\n",
        "\n",
        "### 3. Polaryzacja\n",
        "\n",
        "- **W przewodnikach**: pod wpływem zewnętrznego ładunku wolne elektrony przemieszczają się, gromadząc się po jednej stronie. Tworzy się dipol — przewodnik pozostaje neutralny, ale ładunki są rozdzielone.  \n",
        "\n",
        "- **W izolatorach**: elektrony nie przemieszczają się swobodnie, ale ich chmury ulegają deformacji. Powstają lokalne dipole, co również powoduje efekt polaryzacji, choć słabszy niż w przewodnikach.\n",
        "\n",
        "### 4. Porównanie\n",
        "\n",
        "| Materiał      | Ruch elektronów         | Rozkład ładunku po naelektryzowaniu      |\n",
        "|---------------|-------------------------|------------------------------------------|\n",
        "| Przewodnik    | Swobodny                | Ładunek rozprowadza się po całej powierzchni |\n",
        "| Izolator      | Ograniczony w atomie    | Ładunek pozostaje lokalnie, bez rozprzestrzeniania |\n",
        "\n",
        "### 5. Znaczenie\n",
        "\n",
        "Zrozumienie zachowania ładunków w różnych materiałach jest kluczowe w elektrostatyce i ma znaczenie praktyczne przy:\n",
        "- projektowaniu izolacji w urządzeniach,\n",
        "- działaniu kondensatorów i kabli,\n",
        "- bezpieczeństwie w instalacjach elektrycznych.\n"
      ],
      "metadata": {
        "id": "hMho4cgWqUL-"
      }
    }
  ]
}