{
  "nbformat": 4,
  "nbformat_minor": 0,
  "metadata": {
    "colab": {
      "provenance": [],
      "authorship_tag": "ABX9TyPiTPqf6FDsGQ3xdbFEJgVm",
      "include_colab_link": true
    },
    "kernelspec": {
      "name": "python3",
      "display_name": "Python 3"
    },
    "language_info": {
      "name": "python"
    }
  },
  "cells": [
    {
      "cell_type": "markdown",
      "metadata": {
        "id": "view-in-github",
        "colab_type": "text"
      },
      "source": [
        "<a href=\"https://colab.research.google.com/github/davidofitaly/electric_notes_02/blob/main/02_electrostatics/03_what_is_electric_voltage.ipynb\" target=\"_parent\"><img src=\"https://colab.research.google.com/assets/colab-badge.svg\" alt=\"Open In Colab\"/></a>"
      ]
    },
    {
      "cell_type": "markdown",
      "source": [
        "\n",
        "### 1. Definicja napięcia\n",
        "\n",
        "Napięcie elektryczne to różnica potencjałów między dwoma punktami w obwodzie. Określa, ile energii potencjalnej może zostać wykorzystane do przemieszczenia elektronów z jednego punktu do drugiego.\n",
        "\n",
        "### 2. Potencjał elektryczny\n",
        "\n",
        "Potencjał elektryczny w punkcie pola elektrostatycznego to stosunek energii potencjalnej ładunku próbnego do wartości tego ładunku:\n",
        "\n",
        "$V = \\frac{E_p}{q_0} \\quad [\\text{V}]$\n",
        "\n",
        "gdzie:\n",
        "- $V$ – potencjał elektryczny (w woltach)  \n",
        "- $E_p$ – energia potencjalna (w dżulach)  \n",
        "- $q_0$ – ładunek próbny (w kulombach)\n",
        "\n",
        "### 3. Jednostka napięcia\n",
        "\n",
        "Jednostką napięcia elektrycznego jest **wolt (V)**.  \n",
        "1 wolt to różnica potencjałów, przy której wykonanie pracy 1 dżula jest możliwe przy przepływie 1 kulomba:\n",
        "\n",
        "$1 \\, \\text{V} = 1 \\, \\frac{\\text{J}}{\\text{C}}$\n",
        "\n",
        "### 4. Źródła napięcia\n",
        "\n",
        "Źródła napięcia to urządzenia lub układy, które utrzymują różnicę potencjałów między dwoma punktami, umożliwiając przepływ prądu elektrycznego. Przykłady:\n",
        "\n",
        "- **Baterie i akumulatory** – generują napięcie dzięki reakcjom chemicznym  \n",
        "- **Generatory elektryczne** – zamieniają energię mechaniczną na elektryczną  \n",
        "- **Panele fotowoltaiczne** – przekształcają energię słoneczną na napięcie elektryczne\n",
        "\n",
        "### 5. Podsumowanie\n",
        "\n",
        "Napięcie elektryczne jest kluczową wielkością w elektrostatyce i elektrotechnice. Pozwala zrozumieć działanie obwodów i urządzeń elektrycznych.\n"
      ],
      "metadata": {
        "id": "fKVRO3SpgYcA"
      }
    }
  ]
}