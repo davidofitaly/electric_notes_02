{
  "nbformat": 4,
  "nbformat_minor": 0,
  "metadata": {
    "colab": {
      "provenance": [],
      "authorship_tag": "ABX9TyMpZNoUeoPxTriD7CUoVuvQ",
      "include_colab_link": true
    },
    "kernelspec": {
      "name": "python3",
      "display_name": "Python 3"
    },
    "language_info": {
      "name": "python"
    }
  },
  "cells": [
    {
      "cell_type": "markdown",
      "metadata": {
        "id": "view-in-github",
        "colab_type": "text"
      },
      "source": [
        "<a href=\"https://colab.research.google.com/github/davidofitaly/electric_notes_02/blob/main/02_electrostatics/05_electric_capacitance_and_capacitors.ipynb\" target=\"_parent\"><img src=\"https://colab.research.google.com/assets/colab-badge.svg\" alt=\"Open In Colab\"/></a>"
      ]
    },
    {
      "cell_type": "markdown",
      "source": [
        "\n",
        "\n",
        "## Pojemność elektryczna i kondensatory\n",
        "\n",
        "### 1. Energia zgromadzona w kondensatorze\n",
        "\n",
        "Ładunek zgromadzony na kondensatorze przechowuje energię elektryczną:\n",
        "\n",
        "$$\n",
        "W = Q \\cdot V\n",
        "$$\n",
        "\n",
        "gdzie:  \n",
        "- $W$ – energia (J)  \n",
        "- $Q$ – ładunek (C)  \n",
        "- $V$ – napięcie (V)  \n",
        "\n",
        "### 2. Potencjał przewodnika\n",
        "\n",
        "Potencjał wokół naładowanego obiektu zależy od jego ładunku i odległości:\n",
        "\n",
        "$$\n",
        "V = k_e \\cdot \\frac{Q}{R}\n",
        "$$\n",
        "\n",
        "gdzie $k_e \\approx 9 \\times 10^9 \\ \\text{N·m}^2/\\text{C}^2$  \n",
        "\n",
        "### 3. Definicja pojemności elektrycznej\n",
        "\n",
        "Pojemność to zdolność kondensatora do magazynowania ładunku względem przyłożonego napięcia:\n",
        "\n",
        "$$\n",
        "C = \\frac{Q}{V}\n",
        "$$\n",
        "\n",
        "gdzie:  \n",
        "- $C$ – pojemność (F)  \n",
        "- $Q$ – ładunek (C)  \n",
        "- $V$ – napięcie (V)  \n",
        "\n",
        "### 4. Pojemność kondensatora płaskiego\n",
        "\n",
        "Dla kondensatora płaskiego (dwie równoległe płytki):\n",
        "\n",
        "$$\n",
        "C = \\varepsilon_0 \\cdot \\varepsilon_r \\cdot \\frac{S}{d}\n",
        "$$\n",
        "\n",
        "gdzie:  \n",
        "- $\\varepsilon_0$ – przenikalność próżni ($8{,}85 \\times 10^{-12} \\ \\text{F/m}$)  \n",
        "- $\\varepsilon_r$ – względna przenikalność dielektryka  \n",
        "- $S$ – powierzchnia płytek (m²)  \n",
        "- $d$ – odległość między płytkami (m)  \n",
        "\n",
        "### 5. Jednostki pojemności\n",
        "\n",
        "- Podstawowa jednostka: **farad (F)** = C/V  \n",
        "- Częściej używane:  \n",
        "  - 1 mF = $10^{-3}$ F  \n",
        "  - 1 μF = $10^{-6}$ F  \n",
        "  - 1 nF = $10^{-9}$ F  \n",
        "  - 1 pF = $10^{-12}$ F  \n",
        "\n",
        "### 6. Podsumowanie\n",
        "\n",
        "- Energia kondensatora: $W = Q \\cdot V$  \n",
        "- Pojemność: $C = \\frac{Q}{V}$  \n",
        "- Pojemność kondensatora płaskiego: $C = \\varepsilon_0 \\cdot \\varepsilon_r \\cdot \\frac{S}{d}$  \n"
      ],
      "metadata": {
        "id": "rIcRLVZNrBrR"
      }
    }
  ]
}